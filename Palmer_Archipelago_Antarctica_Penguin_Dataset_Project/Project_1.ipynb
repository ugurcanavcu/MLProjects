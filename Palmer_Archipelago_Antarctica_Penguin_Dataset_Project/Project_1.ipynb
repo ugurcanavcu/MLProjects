{
 "cells": [
  {
   "cell_type": "markdown",
   "id": "d58b76d4",
   "metadata": {},
   "source": [
    "## Student Name: Ugur Can Avcu\n",
    "## Student #: 215814239\n",
    "# Project-1\n",
    "\n",
    "This project is done using dataset, Palmer Archipelago (Antarctica) penguin data which were collected and made available by Dr. Kristen Gorman and the Palmer Station, Antarctica LTER, a member of the Long Term Ecological Research Network.\n",
    "Thank you to Dr. Gorman, Palmer Station LTER and the LTER Network! \n",
    "Special thanks to Marty Downs (Director, LTER Network Office) for help regarding the data license & use.\n",
    "\n",
    "License & citation\n",
    "• Data are available by CC-0 license in accordance with the Palmer Station LTER Data Policy and the LTER Data Access Policy for Type I data.\n",
    "• Please cite this data using: Gorman KB, Williams TD, Fraser WR (2014) Ecological Sexual Dimorphism and Environmental Variability within a Community of Antarctic Penguins (Genus Pygoscelis). PLoS ONE 9(3): e90081. doi:10.1371/journal.pone.0090081\n",
    "\n",
    "Summary:\n",
    "The data folder contains a csv file: penguins_size.csv\n",
    "- **penguins_size.csv:** Simplified data from original penguin data sets. Contains variables:\n",
    "- **species:** penguin species (Chinstrap, Ad lie, or Gentoo)\n",
    "- **culmen_length_mm:** culmen length (mm)\n",
    "- **culmen_depth_mm:** culmen depth (mm)\n",
    "- **flipper_length_mm:** flipper length (mm)\n",
    "- **body_mass_g:** body mass (g)\n",
    "- **island:** island name (Dream, Torgersen, or Biscoe) in the Palmer Archipelago (Antarctica)\n",
    "- **sex:** penguin sex\n",
    "\n"
   ]
  },
  {
   "cell_type": "markdown",
   "id": "2dd97a03",
   "metadata": {},
   "source": [
    "## Detailed Exploratory Data Analysis on the Dataset"
   ]
  },
  {
   "cell_type": "code",
   "execution_count": 1004,
   "id": "89f759d0",
   "metadata": {},
   "outputs": [],
   "source": [
    "import pandas as pd\n",
    "import numpy as np\n",
    "import matplotlib.pyplot as plt\n",
    "import random\n",
    "import seaborn as sns\n",
    "import joblib\n",
    "import warnings\n",
    "warnings.filterwarnings('ignore')\n",
    "from sklearn.model_selection import train_test_split\n",
    "from sklearn.impute import SimpleImputer\n",
    "from sklearn.linear_model import LogisticRegression\n",
    "from sklearn.neural_network import MLPClassifier\n",
    "from sklearn.ensemble import RandomForestClassifier\n",
    "from sklearn.model_selection import GridSearchCV\n",
    "from sklearn.model_selection import learning_curve\n",
    "from sklearn.datasets import load_digits\n",
    "from sklearn.model_selection import ShuffleSplit\n",
    "from sklearn.metrics import accuracy_score, precision_score, recall_score\n",
    "from time import time\n",
    "warnings.filterwarnings('ignore', category=FutureWarning)\n",
    "warnings.filterwarnings('ignore', category=DeprecationWarning)\n",
    "penguins = pd.read_csv('penguins_size.csv')\n"
   ]
  },
  {
   "cell_type": "code",
   "execution_count": 1005,
   "id": "a5c42eee",
   "metadata": {},
   "outputs": [
    {
     "data": {
      "text/html": [
       "<div>\n",
       "<style scoped>\n",
       "    .dataframe tbody tr th:only-of-type {\n",
       "        vertical-align: middle;\n",
       "    }\n",
       "\n",
       "    .dataframe tbody tr th {\n",
       "        vertical-align: top;\n",
       "    }\n",
       "\n",
       "    .dataframe thead th {\n",
       "        text-align: right;\n",
       "    }\n",
       "</style>\n",
       "<table border=\"1\" class=\"dataframe\">\n",
       "  <thead>\n",
       "    <tr style=\"text-align: right;\">\n",
       "      <th></th>\n",
       "      <th>species</th>\n",
       "      <th>island</th>\n",
       "      <th>culmen_length_mm</th>\n",
       "      <th>culmen_depth_mm</th>\n",
       "      <th>flipper_length_mm</th>\n",
       "      <th>body_mass_g</th>\n",
       "      <th>sex</th>\n",
       "    </tr>\n",
       "  </thead>\n",
       "  <tbody>\n",
       "    <tr>\n",
       "      <th>0</th>\n",
       "      <td>Adelie</td>\n",
       "      <td>Torgersen</td>\n",
       "      <td>39.1</td>\n",
       "      <td>18.7</td>\n",
       "      <td>181.0</td>\n",
       "      <td>3750.0</td>\n",
       "      <td>MALE</td>\n",
       "    </tr>\n",
       "    <tr>\n",
       "      <th>1</th>\n",
       "      <td>Adelie</td>\n",
       "      <td>Torgersen</td>\n",
       "      <td>39.5</td>\n",
       "      <td>17.4</td>\n",
       "      <td>186.0</td>\n",
       "      <td>3800.0</td>\n",
       "      <td>FEMALE</td>\n",
       "    </tr>\n",
       "    <tr>\n",
       "      <th>2</th>\n",
       "      <td>Adelie</td>\n",
       "      <td>Torgersen</td>\n",
       "      <td>40.3</td>\n",
       "      <td>18.0</td>\n",
       "      <td>195.0</td>\n",
       "      <td>3250.0</td>\n",
       "      <td>FEMALE</td>\n",
       "    </tr>\n",
       "    <tr>\n",
       "      <th>3</th>\n",
       "      <td>Adelie</td>\n",
       "      <td>Torgersen</td>\n",
       "      <td>NaN</td>\n",
       "      <td>NaN</td>\n",
       "      <td>NaN</td>\n",
       "      <td>NaN</td>\n",
       "      <td>NaN</td>\n",
       "    </tr>\n",
       "    <tr>\n",
       "      <th>4</th>\n",
       "      <td>Adelie</td>\n",
       "      <td>Torgersen</td>\n",
       "      <td>36.7</td>\n",
       "      <td>19.3</td>\n",
       "      <td>193.0</td>\n",
       "      <td>3450.0</td>\n",
       "      <td>FEMALE</td>\n",
       "    </tr>\n",
       "  </tbody>\n",
       "</table>\n",
       "</div>"
      ],
      "text/plain": [
       "  species     island  culmen_length_mm  culmen_depth_mm  flipper_length_mm  \\\n",
       "0  Adelie  Torgersen              39.1             18.7              181.0   \n",
       "1  Adelie  Torgersen              39.5             17.4              186.0   \n",
       "2  Adelie  Torgersen              40.3             18.0              195.0   \n",
       "3  Adelie  Torgersen               NaN              NaN                NaN   \n",
       "4  Adelie  Torgersen              36.7             19.3              193.0   \n",
       "\n",
       "   body_mass_g     sex  \n",
       "0       3750.0    MALE  \n",
       "1       3800.0  FEMALE  \n",
       "2       3250.0  FEMALE  \n",
       "3          NaN     NaN  \n",
       "4       3450.0  FEMALE  "
      ]
     },
     "execution_count": 1005,
     "metadata": {},
     "output_type": "execute_result"
    }
   ],
   "source": [
    "penguins.head()"
   ]
  },
  {
   "cell_type": "code",
   "execution_count": 1006,
   "id": "729ea3f9",
   "metadata": {},
   "outputs": [
    {
     "data": {
      "text/html": [
       "<div>\n",
       "<style scoped>\n",
       "    .dataframe tbody tr th:only-of-type {\n",
       "        vertical-align: middle;\n",
       "    }\n",
       "\n",
       "    .dataframe tbody tr th {\n",
       "        vertical-align: top;\n",
       "    }\n",
       "\n",
       "    .dataframe thead th {\n",
       "        text-align: right;\n",
       "    }\n",
       "</style>\n",
       "<table border=\"1\" class=\"dataframe\">\n",
       "  <thead>\n",
       "    <tr style=\"text-align: right;\">\n",
       "      <th></th>\n",
       "      <th>culmen_length_mm</th>\n",
       "      <th>culmen_depth_mm</th>\n",
       "      <th>flipper_length_mm</th>\n",
       "      <th>body_mass_g</th>\n",
       "    </tr>\n",
       "  </thead>\n",
       "  <tbody>\n",
       "    <tr>\n",
       "      <th>count</th>\n",
       "      <td>342.000000</td>\n",
       "      <td>342.000000</td>\n",
       "      <td>342.000000</td>\n",
       "      <td>342.000000</td>\n",
       "    </tr>\n",
       "    <tr>\n",
       "      <th>mean</th>\n",
       "      <td>43.921930</td>\n",
       "      <td>17.151170</td>\n",
       "      <td>200.915205</td>\n",
       "      <td>4201.754386</td>\n",
       "    </tr>\n",
       "    <tr>\n",
       "      <th>std</th>\n",
       "      <td>5.459584</td>\n",
       "      <td>1.974793</td>\n",
       "      <td>14.061714</td>\n",
       "      <td>801.954536</td>\n",
       "    </tr>\n",
       "    <tr>\n",
       "      <th>min</th>\n",
       "      <td>32.100000</td>\n",
       "      <td>13.100000</td>\n",
       "      <td>172.000000</td>\n",
       "      <td>2700.000000</td>\n",
       "    </tr>\n",
       "    <tr>\n",
       "      <th>25%</th>\n",
       "      <td>39.225000</td>\n",
       "      <td>15.600000</td>\n",
       "      <td>190.000000</td>\n",
       "      <td>3550.000000</td>\n",
       "    </tr>\n",
       "    <tr>\n",
       "      <th>50%</th>\n",
       "      <td>44.450000</td>\n",
       "      <td>17.300000</td>\n",
       "      <td>197.000000</td>\n",
       "      <td>4050.000000</td>\n",
       "    </tr>\n",
       "    <tr>\n",
       "      <th>75%</th>\n",
       "      <td>48.500000</td>\n",
       "      <td>18.700000</td>\n",
       "      <td>213.000000</td>\n",
       "      <td>4750.000000</td>\n",
       "    </tr>\n",
       "    <tr>\n",
       "      <th>max</th>\n",
       "      <td>59.600000</td>\n",
       "      <td>21.500000</td>\n",
       "      <td>231.000000</td>\n",
       "      <td>6300.000000</td>\n",
       "    </tr>\n",
       "  </tbody>\n",
       "</table>\n",
       "</div>"
      ],
      "text/plain": [
       "       culmen_length_mm  culmen_depth_mm  flipper_length_mm  body_mass_g\n",
       "count        342.000000       342.000000         342.000000   342.000000\n",
       "mean          43.921930        17.151170         200.915205  4201.754386\n",
       "std            5.459584         1.974793          14.061714   801.954536\n",
       "min           32.100000        13.100000         172.000000  2700.000000\n",
       "25%           39.225000        15.600000         190.000000  3550.000000\n",
       "50%           44.450000        17.300000         197.000000  4050.000000\n",
       "75%           48.500000        18.700000         213.000000  4750.000000\n",
       "max           59.600000        21.500000         231.000000  6300.000000"
      ]
     },
     "execution_count": 1006,
     "metadata": {},
     "output_type": "execute_result"
    }
   ],
   "source": [
    "# we can look at the some statistics of the continous values\n",
    "penguins.describe()"
   ]
  },
  {
   "cell_type": "code",
   "execution_count": 1007,
   "id": "6b8a1688",
   "metadata": {},
   "outputs": [
    {
     "data": {
      "text/plain": [
       "species               0\n",
       "island                0\n",
       "culmen_length_mm      2\n",
       "culmen_depth_mm       2\n",
       "flipper_length_mm     2\n",
       "body_mass_g           2\n",
       "sex                  10\n",
       "dtype: int64"
      ]
     },
     "execution_count": 1007,
     "metadata": {},
     "output_type": "execute_result"
    }
   ],
   "source": [
    "penguins.isnull().sum()\n",
    "# each continuous variable have 2 missing values, but 'sex' variable has 10 missing values"
   ]
  },
  {
   "cell_type": "code",
   "execution_count": 1008,
   "id": "9633c3c5",
   "metadata": {},
   "outputs": [
    {
     "name": "stdout",
     "output_type": "stream",
     "text": [
      "0.005813953488372093\n"
     ]
    }
   ],
   "source": [
    "penguins.isnull().sum()\n",
    "missing_val_depth_mm = penguins['culmen_depth_mm'].isnull().sum()\n",
    "size_of_depth_mm = penguins['culmen_depth_mm'].size\n",
    "percentage = missing_val_depth_mm / size_of_depth_mm\n",
    "print(percentage)\n",
    "\n",
    "# the percentage is ~ 0.006 which is not a huge percantage.. And this percentage is same for all variables except \n",
    "# sex variable, so missing values on variables should not affect classification accuracy.\n",
    "# However, we can easily fill missing values with the mean values of the variables.\n",
    "# The reason why I choose mean value strategy to deal with missing values on continuous variables over SimpleImputer\n",
    "# function from sklearn was that mean value strategy handled missing values on numeric values better \n",
    "# compared to SimpleImpute"
   ]
  },
  {
   "cell_type": "code",
   "execution_count": 1009,
   "id": "b8830ceb",
   "metadata": {},
   "outputs": [
    {
     "data": {
      "text/plain": [
       "species               0\n",
       "island                0\n",
       "culmen_length_mm      0\n",
       "culmen_depth_mm       0\n",
       "flipper_length_mm     0\n",
       "body_mass_g           0\n",
       "sex                  10\n",
       "dtype: int64"
      ]
     },
     "execution_count": 1009,
     "metadata": {},
     "output_type": "execute_result"
    }
   ],
   "source": [
    "penguins['culmen_length_mm'].fillna(penguins['culmen_length_mm'].mean(), inplace=True)\n",
    "penguins['culmen_depth_mm'].fillna(penguins['culmen_depth_mm'].mean(), inplace=True)\n",
    "penguins['flipper_length_mm'].fillna(penguins['flipper_length_mm'].mean(), inplace=True)\n",
    "penguins['body_mass_g'].fillna(penguins['body_mass_g'].mean(), inplace=True)\n",
    "penguins.isnull().sum()\n",
    "## all missing values in the continious features are filled with the mean\n"
   ]
  },
  {
   "cell_type": "code",
   "execution_count": 1010,
   "id": "7e4654ef",
   "metadata": {},
   "outputs": [
    {
     "data": {
      "text/html": [
       "<div>\n",
       "<style scoped>\n",
       "    .dataframe tbody tr th:only-of-type {\n",
       "        vertical-align: middle;\n",
       "    }\n",
       "\n",
       "    .dataframe tbody tr th {\n",
       "        vertical-align: top;\n",
       "    }\n",
       "\n",
       "    .dataframe thead th {\n",
       "        text-align: right;\n",
       "    }\n",
       "</style>\n",
       "<table border=\"1\" class=\"dataframe\">\n",
       "  <thead>\n",
       "    <tr style=\"text-align: right;\">\n",
       "      <th></th>\n",
       "      <th>species</th>\n",
       "      <th>island</th>\n",
       "      <th>culmen_length_mm</th>\n",
       "      <th>culmen_depth_mm</th>\n",
       "      <th>flipper_length_mm</th>\n",
       "      <th>body_mass_g</th>\n",
       "      <th>sex</th>\n",
       "    </tr>\n",
       "  </thead>\n",
       "  <tbody>\n",
       "    <tr>\n",
       "      <th>0</th>\n",
       "      <td>Adelie</td>\n",
       "      <td>Torgersen</td>\n",
       "      <td>39.10000</td>\n",
       "      <td>18.70000</td>\n",
       "      <td>181.000000</td>\n",
       "      <td>3750.000000</td>\n",
       "      <td>0.0</td>\n",
       "    </tr>\n",
       "    <tr>\n",
       "      <th>1</th>\n",
       "      <td>Adelie</td>\n",
       "      <td>Torgersen</td>\n",
       "      <td>39.50000</td>\n",
       "      <td>17.40000</td>\n",
       "      <td>186.000000</td>\n",
       "      <td>3800.000000</td>\n",
       "      <td>1.0</td>\n",
       "    </tr>\n",
       "    <tr>\n",
       "      <th>2</th>\n",
       "      <td>Adelie</td>\n",
       "      <td>Torgersen</td>\n",
       "      <td>40.30000</td>\n",
       "      <td>18.00000</td>\n",
       "      <td>195.000000</td>\n",
       "      <td>3250.000000</td>\n",
       "      <td>1.0</td>\n",
       "    </tr>\n",
       "    <tr>\n",
       "      <th>3</th>\n",
       "      <td>Adelie</td>\n",
       "      <td>Torgersen</td>\n",
       "      <td>43.92193</td>\n",
       "      <td>17.15117</td>\n",
       "      <td>200.915205</td>\n",
       "      <td>4201.754386</td>\n",
       "      <td>NaN</td>\n",
       "    </tr>\n",
       "    <tr>\n",
       "      <th>4</th>\n",
       "      <td>Adelie</td>\n",
       "      <td>Torgersen</td>\n",
       "      <td>36.70000</td>\n",
       "      <td>19.30000</td>\n",
       "      <td>193.000000</td>\n",
       "      <td>3450.000000</td>\n",
       "      <td>1.0</td>\n",
       "    </tr>\n",
       "  </tbody>\n",
       "</table>\n",
       "</div>"
      ],
      "text/plain": [
       "  species     island  culmen_length_mm  culmen_depth_mm  flipper_length_mm  \\\n",
       "0  Adelie  Torgersen          39.10000         18.70000         181.000000   \n",
       "1  Adelie  Torgersen          39.50000         17.40000         186.000000   \n",
       "2  Adelie  Torgersen          40.30000         18.00000         195.000000   \n",
       "3  Adelie  Torgersen          43.92193         17.15117         200.915205   \n",
       "4  Adelie  Torgersen          36.70000         19.30000         193.000000   \n",
       "\n",
       "   body_mass_g  sex  \n",
       "0  3750.000000  0.0  \n",
       "1  3800.000000  1.0  \n",
       "2  3250.000000  1.0  \n",
       "3  4201.754386  NaN  \n",
       "4  3450.000000  1.0  "
      ]
     },
     "execution_count": 1010,
     "metadata": {},
     "output_type": "execute_result"
    }
   ],
   "source": [
    "# converting sex variable to numeric type to have all variables in the numeric type.\n",
    "gender_num = {'MALE': 0, 'FEMALE': 1}\n",
    "\n",
    "penguins['sex'] = penguins['sex'].map(gender_num)\n",
    "\n",
    "penguins.head()"
   ]
  },
  {
   "cell_type": "code",
   "execution_count": 1011,
   "id": "31d7cb2c",
   "metadata": {},
   "outputs": [
    {
     "data": {
      "text/plain": [
       "0.4954954954954955"
      ]
     },
     "execution_count": 1011,
     "metadata": {},
     "output_type": "execute_result"
    }
   ],
   "source": [
    "penguins['sex'].mean()\n",
    "# almost 50% of the penguins are male, and the other 50% is female,\n",
    "# so it does not make sense to fill up missing values in sex row with the mean\n",
    "# Also, NaN values still exist after mapping so,\n",
    "# we can use SimpleImputer functiom from sklearn library to replace missing data on 'sex' row"
   ]
  },
  {
   "cell_type": "code",
   "execution_count": 1012,
   "id": "c76655ad",
   "metadata": {},
   "outputs": [
    {
     "data": {
      "text/html": [
       "<div>\n",
       "<style scoped>\n",
       "    .dataframe tbody tr th:only-of-type {\n",
       "        vertical-align: middle;\n",
       "    }\n",
       "\n",
       "    .dataframe tbody tr th {\n",
       "        vertical-align: top;\n",
       "    }\n",
       "\n",
       "    .dataframe thead th {\n",
       "        text-align: right;\n",
       "    }\n",
       "</style>\n",
       "<table border=\"1\" class=\"dataframe\">\n",
       "  <thead>\n",
       "    <tr style=\"text-align: right;\">\n",
       "      <th></th>\n",
       "      <th>species</th>\n",
       "      <th>island</th>\n",
       "      <th>culmen_length_mm</th>\n",
       "      <th>culmen_depth_mm</th>\n",
       "      <th>flipper_length_mm</th>\n",
       "      <th>body_mass_g</th>\n",
       "      <th>sex</th>\n",
       "    </tr>\n",
       "  </thead>\n",
       "  <tbody>\n",
       "    <tr>\n",
       "      <th>0</th>\n",
       "      <td>Adelie</td>\n",
       "      <td>Torgersen</td>\n",
       "      <td>39.10000</td>\n",
       "      <td>18.70000</td>\n",
       "      <td>181.000000</td>\n",
       "      <td>3750.000000</td>\n",
       "      <td>0.0</td>\n",
       "    </tr>\n",
       "    <tr>\n",
       "      <th>1</th>\n",
       "      <td>Adelie</td>\n",
       "      <td>Torgersen</td>\n",
       "      <td>39.50000</td>\n",
       "      <td>17.40000</td>\n",
       "      <td>186.000000</td>\n",
       "      <td>3800.000000</td>\n",
       "      <td>1.0</td>\n",
       "    </tr>\n",
       "    <tr>\n",
       "      <th>2</th>\n",
       "      <td>Adelie</td>\n",
       "      <td>Torgersen</td>\n",
       "      <td>40.30000</td>\n",
       "      <td>18.00000</td>\n",
       "      <td>195.000000</td>\n",
       "      <td>3250.000000</td>\n",
       "      <td>1.0</td>\n",
       "    </tr>\n",
       "    <tr>\n",
       "      <th>3</th>\n",
       "      <td>Adelie</td>\n",
       "      <td>Torgersen</td>\n",
       "      <td>43.92193</td>\n",
       "      <td>17.15117</td>\n",
       "      <td>200.915205</td>\n",
       "      <td>4201.754386</td>\n",
       "      <td>0.0</td>\n",
       "    </tr>\n",
       "    <tr>\n",
       "      <th>4</th>\n",
       "      <td>Adelie</td>\n",
       "      <td>Torgersen</td>\n",
       "      <td>36.70000</td>\n",
       "      <td>19.30000</td>\n",
       "      <td>193.000000</td>\n",
       "      <td>3450.000000</td>\n",
       "      <td>1.0</td>\n",
       "    </tr>\n",
       "  </tbody>\n",
       "</table>\n",
       "</div>"
      ],
      "text/plain": [
       "  species     island  culmen_length_mm  culmen_depth_mm  flipper_length_mm  \\\n",
       "0  Adelie  Torgersen          39.10000         18.70000         181.000000   \n",
       "1  Adelie  Torgersen          39.50000         17.40000         186.000000   \n",
       "2  Adelie  Torgersen          40.30000         18.00000         195.000000   \n",
       "3  Adelie  Torgersen          43.92193         17.15117         200.915205   \n",
       "4  Adelie  Torgersen          36.70000         19.30000         193.000000   \n",
       "\n",
       "   body_mass_g  sex  \n",
       "0  3750.000000  0.0  \n",
       "1  3800.000000  1.0  \n",
       "2  3250.000000  1.0  \n",
       "3  4201.754386  0.0  \n",
       "4  3450.000000  1.0  "
      ]
     },
     "execution_count": 1012,
     "metadata": {},
     "output_type": "execute_result"
    }
   ],
   "source": [
    "# After analysis on 'sex' variable, I applied SimpleImputer function to fill up the missing values\n",
    "# The fuction replaces missing values with most frequent values in each column\n",
    "\n",
    "replace_missing_data = SimpleImputer(missing_values = np.nan, strategy = 'most_frequent')\n",
    "replace_missing_data = replace_missing_data.fit(penguins[['sex']])\n",
    "penguins[['sex']] = replace_missing_data.transform(penguins[['sex']])\n",
    "\n",
    "penguins.head(5)"
   ]
  },
  {
   "cell_type": "code",
   "execution_count": 1013,
   "id": "251a1176",
   "metadata": {},
   "outputs": [
    {
     "data": {
      "text/plain": [
       "species              0\n",
       "island               0\n",
       "culmen_length_mm     0\n",
       "culmen_depth_mm      0\n",
       "flipper_length_mm    0\n",
       "body_mass_g          0\n",
       "sex                  0\n",
       "dtype: int64"
      ]
     },
     "execution_count": 1013,
     "metadata": {},
     "output_type": "execute_result"
    }
   ],
   "source": [
    "penguins.isnull().sum()\n",
    "# there is no missing values in the dataset anymore"
   ]
  },
  {
   "cell_type": "code",
   "execution_count": 1014,
   "id": "25f4e79c",
   "metadata": {},
   "outputs": [
    {
     "data": {
      "text/html": [
       "<div>\n",
       "<style scoped>\n",
       "    .dataframe tbody tr th:only-of-type {\n",
       "        vertical-align: middle;\n",
       "    }\n",
       "\n",
       "    .dataframe tbody tr th {\n",
       "        vertical-align: top;\n",
       "    }\n",
       "\n",
       "    .dataframe thead th {\n",
       "        text-align: right;\n",
       "    }\n",
       "</style>\n",
       "<table border=\"1\" class=\"dataframe\">\n",
       "  <thead>\n",
       "    <tr style=\"text-align: right;\">\n",
       "      <th></th>\n",
       "      <th>species</th>\n",
       "      <th>island</th>\n",
       "      <th>culmen_length_mm</th>\n",
       "      <th>culmen_depth_mm</th>\n",
       "      <th>flipper_length_mm</th>\n",
       "      <th>body_mass_g</th>\n",
       "      <th>sex</th>\n",
       "    </tr>\n",
       "  </thead>\n",
       "  <tbody>\n",
       "    <tr>\n",
       "      <th>0</th>\n",
       "      <td>0.0</td>\n",
       "      <td>Torgersen</td>\n",
       "      <td>39.10000</td>\n",
       "      <td>18.70000</td>\n",
       "      <td>181.000000</td>\n",
       "      <td>3750.000000</td>\n",
       "      <td>0.0</td>\n",
       "    </tr>\n",
       "    <tr>\n",
       "      <th>1</th>\n",
       "      <td>0.0</td>\n",
       "      <td>Torgersen</td>\n",
       "      <td>39.50000</td>\n",
       "      <td>17.40000</td>\n",
       "      <td>186.000000</td>\n",
       "      <td>3800.000000</td>\n",
       "      <td>1.0</td>\n",
       "    </tr>\n",
       "    <tr>\n",
       "      <th>2</th>\n",
       "      <td>0.0</td>\n",
       "      <td>Torgersen</td>\n",
       "      <td>40.30000</td>\n",
       "      <td>18.00000</td>\n",
       "      <td>195.000000</td>\n",
       "      <td>3250.000000</td>\n",
       "      <td>1.0</td>\n",
       "    </tr>\n",
       "    <tr>\n",
       "      <th>3</th>\n",
       "      <td>0.0</td>\n",
       "      <td>Torgersen</td>\n",
       "      <td>43.92193</td>\n",
       "      <td>17.15117</td>\n",
       "      <td>200.915205</td>\n",
       "      <td>4201.754386</td>\n",
       "      <td>0.0</td>\n",
       "    </tr>\n",
       "    <tr>\n",
       "      <th>4</th>\n",
       "      <td>0.0</td>\n",
       "      <td>Torgersen</td>\n",
       "      <td>36.70000</td>\n",
       "      <td>19.30000</td>\n",
       "      <td>193.000000</td>\n",
       "      <td>3450.000000</td>\n",
       "      <td>1.0</td>\n",
       "    </tr>\n",
       "  </tbody>\n",
       "</table>\n",
       "</div>"
      ],
      "text/plain": [
       "   species     island  culmen_length_mm  culmen_depth_mm  flipper_length_mm  \\\n",
       "0      0.0  Torgersen          39.10000         18.70000         181.000000   \n",
       "1      0.0  Torgersen          39.50000         17.40000         186.000000   \n",
       "2      0.0  Torgersen          40.30000         18.00000         195.000000   \n",
       "3      0.0  Torgersen          43.92193         17.15117         200.915205   \n",
       "4      0.0  Torgersen          36.70000         19.30000         193.000000   \n",
       "\n",
       "   body_mass_g  sex  \n",
       "0  3750.000000  0.0  \n",
       "1  3800.000000  1.0  \n",
       "2  3250.000000  1.0  \n",
       "3  4201.754386  0.0  \n",
       "4  3450.000000  1.0  "
      ]
     },
     "execution_count": 1014,
     "metadata": {},
     "output_type": "execute_result"
    }
   ],
   "source": [
    "# species variable is our label variable(class variable), we better convert it to numeric values\n",
    "species_num = {'Adelie': 0.0, 'Chinstrap': 1.0, 'Gentoo':2.0}\n",
    "\n",
    "penguins['species'] = penguins['species'].map(species_num)\n",
    "\n",
    "penguins.head()"
   ]
  },
  {
   "cell_type": "code",
   "execution_count": 1015,
   "id": "65e84f6d",
   "metadata": {},
   "outputs": [
    {
     "data": {
      "text/html": [
       "<div>\n",
       "<style scoped>\n",
       "    .dataframe tbody tr th:only-of-type {\n",
       "        vertical-align: middle;\n",
       "    }\n",
       "\n",
       "    .dataframe tbody tr th {\n",
       "        vertical-align: top;\n",
       "    }\n",
       "\n",
       "    .dataframe thead th {\n",
       "        text-align: right;\n",
       "    }\n",
       "</style>\n",
       "<table border=\"1\" class=\"dataframe\">\n",
       "  <thead>\n",
       "    <tr style=\"text-align: right;\">\n",
       "      <th></th>\n",
       "      <th>species</th>\n",
       "      <th>island</th>\n",
       "      <th>culmen_length_mm</th>\n",
       "      <th>culmen_depth_mm</th>\n",
       "      <th>flipper_length_mm</th>\n",
       "      <th>body_mass_g</th>\n",
       "      <th>sex</th>\n",
       "    </tr>\n",
       "  </thead>\n",
       "  <tbody>\n",
       "    <tr>\n",
       "      <th>0</th>\n",
       "      <td>0.0</td>\n",
       "      <td>0.0</td>\n",
       "      <td>39.10000</td>\n",
       "      <td>18.70000</td>\n",
       "      <td>181.000000</td>\n",
       "      <td>3750.000000</td>\n",
       "      <td>0.0</td>\n",
       "    </tr>\n",
       "    <tr>\n",
       "      <th>1</th>\n",
       "      <td>0.0</td>\n",
       "      <td>0.0</td>\n",
       "      <td>39.50000</td>\n",
       "      <td>17.40000</td>\n",
       "      <td>186.000000</td>\n",
       "      <td>3800.000000</td>\n",
       "      <td>1.0</td>\n",
       "    </tr>\n",
       "    <tr>\n",
       "      <th>2</th>\n",
       "      <td>0.0</td>\n",
       "      <td>0.0</td>\n",
       "      <td>40.30000</td>\n",
       "      <td>18.00000</td>\n",
       "      <td>195.000000</td>\n",
       "      <td>3250.000000</td>\n",
       "      <td>1.0</td>\n",
       "    </tr>\n",
       "    <tr>\n",
       "      <th>3</th>\n",
       "      <td>0.0</td>\n",
       "      <td>0.0</td>\n",
       "      <td>43.92193</td>\n",
       "      <td>17.15117</td>\n",
       "      <td>200.915205</td>\n",
       "      <td>4201.754386</td>\n",
       "      <td>0.0</td>\n",
       "    </tr>\n",
       "    <tr>\n",
       "      <th>4</th>\n",
       "      <td>0.0</td>\n",
       "      <td>0.0</td>\n",
       "      <td>36.70000</td>\n",
       "      <td>19.30000</td>\n",
       "      <td>193.000000</td>\n",
       "      <td>3450.000000</td>\n",
       "      <td>1.0</td>\n",
       "    </tr>\n",
       "  </tbody>\n",
       "</table>\n",
       "</div>"
      ],
      "text/plain": [
       "   species  island  culmen_length_mm  culmen_depth_mm  flipper_length_mm  \\\n",
       "0      0.0     0.0          39.10000         18.70000         181.000000   \n",
       "1      0.0     0.0          39.50000         17.40000         186.000000   \n",
       "2      0.0     0.0          40.30000         18.00000         195.000000   \n",
       "3      0.0     0.0          43.92193         17.15117         200.915205   \n",
       "4      0.0     0.0          36.70000         19.30000         193.000000   \n",
       "\n",
       "   body_mass_g  sex  \n",
       "0  3750.000000  0.0  \n",
       "1  3800.000000  1.0  \n",
       "2  3250.000000  1.0  \n",
       "3  4201.754386  0.0  \n",
       "4  3450.000000  1.0  "
      ]
     },
     "execution_count": 1015,
     "metadata": {},
     "output_type": "execute_result"
    }
   ],
   "source": [
    "# Island variable is needed to be converted to numeric value too\n",
    "island_num = {'Torgersen': 0.0, 'Biscoe': 1.0, 'Dream':2.0}\n",
    "\n",
    "penguins['island'] = penguins['island'].map(island_num)\n",
    "\n",
    "penguins.head()"
   ]
  },
  {
   "cell_type": "markdown",
   "id": "3a444b27",
   "metadata": {},
   "source": [
    "**Now, we should analyze the correlation between variables, such as body_mass_g and species(class)**\n",
    "\n",
    "**I will first see, how many penguins belongs to each species**"
   ]
  },
  {
   "cell_type": "code",
   "execution_count": 1016,
   "id": "6e8f888c",
   "metadata": {},
   "outputs": [
    {
     "name": "stdout",
     "output_type": "stream",
     "text": [
      "species\n",
      "0.0    152\n",
      "2.0    124\n",
      "1.0     68\n",
      "dtype: int64\n"
     ]
    }
   ],
   "source": [
    "# Now, we should analyze the correlation between variables, such as body_mass_g and species(class)\n",
    "# I will first see, how many penguins belongs to each species\n",
    "print(penguins.value_counts(subset = penguins['species']))"
   ]
  },
  {
   "cell_type": "markdown",
   "id": "94465890",
   "metadata": {},
   "source": [
    "As can bee seen by the output, the class variable is **not balanced**. In this case, we have **two options:**\n",
    "**undersampling or oversampling**\n",
    "\n",
    "I will choose **68 penguins from each species** since **68 is lowest value from each each species.**\n",
    "\n",
    "**I will draw a scatter plot to do linear regression fit for species between culment_depth and length**"
   ]
  },
  {
   "cell_type": "code",
   "execution_count": 1017,
   "id": "1606d796",
   "metadata": {},
   "outputs": [
    {
     "data": {
      "text/plain": [
       "<seaborn.axisgrid.FacetGrid at 0x29595b7f0>"
      ]
     },
     "execution_count": 1017,
     "metadata": {},
     "output_type": "execute_result"
    },
    {
     "data": {
      "image/png": "[encoded data removed]",
      "text/plain": [
       "<Figure size 412x360 with 1 Axes>"
      ]
     },
     "metadata": {
      "needs_background": "light"
     },
     "output_type": "display_data"
    }
   ],
   "source": [
    "random.seed(250)\n",
    "penguins_adelie = penguins[penguins['species'] == 0.0].sample(n= 68)\n",
    "penguins_chinstrap = penguins[penguins['species'] == 1.0].sample(n= 68)\n",
    "penguins_gentoo = penguins[penguins['species'] == 2.0].sample(n= 68)\n",
    "plt.rcParams.update({'figure.figsize':(16,16)})\n",
    "sns.lmplot(x='culmen_depth_mm', y='culmen_length_mm', hue='species', data=penguins)"
   ]
  },
  {
   "cell_type": "code",
   "execution_count": 1018,
   "id": "98e1a073",
   "metadata": {},
   "outputs": [
    {
     "name": "stdout",
     "output_type": "stream",
     "text": [
      "0.466 0.654 0.621\n"
     ]
    }
   ],
   "source": [
    "# Now, I can calculate the exact correlation between culmen_depth and length\n",
    "\n",
    "correlation_of_adelie = round(penguins_adelie['culmen_depth_mm'].corr(penguins_adelie['culmen_length_mm']),3)\n",
    "correlation_of_chinstrap = round(penguins_chinstrap['culmen_depth_mm'].corr(penguins_chinstrap['culmen_length_mm']),3)\n",
    "correlation_of_gentoo = round(penguins_gentoo['culmen_depth_mm'].corr(penguins_gentoo['culmen_length_mm']),3)\n",
    "print(correlation_of_adelie, correlation_of_chinstrap, correlation_of_gentoo)\n"
   ]
  },
  {
   "cell_type": "markdown",
   "id": "206642e4",
   "metadata": {},
   "source": [
    "The correlation for **Adelia** is **0.425** which is an **avarage positive correlation**\n",
    "\n",
    "The correlation for **Chinstrap** is **0.654** which is an **avarage positive correlation**\n",
    "\n",
    "The correlation for **Adelia** is **0.636** which is **an avarage positive correlation**\n",
    "\n",
    "Therefore, there is an **avarage positive correlation** between **culmen_dep and length for all species**"
   ]
  },
  {
   "cell_type": "code",
   "execution_count": 1019,
   "id": "72da7058",
   "metadata": {},
   "outputs": [
    {
     "name": "stdout",
     "output_type": "stream",
     "text": [
      "-0.034\n"
     ]
    }
   ],
   "source": [
    "# from all data with combining the species, the correlation should decrease, but remain positive\n",
    "# let us see what we'll see\n",
    "\n",
    "penguins_species = pd.concat([penguins_adelie, penguins_chinstrap, penguins_gentoo])\n",
    "all_corr = round(penguins_species['culmen_depth_mm'].corr(penguins_species['culmen_length_mm']),3)\n",
    "print(all_corr)"
   ]
  },
  {
   "cell_type": "markdown",
   "id": "1eeb8584",
   "metadata": {},
   "source": [
    "The **exact correlation** is **-0.04** which is **negative weak correlation.** So, the correlation I found earlier between  **culmen_dep and length for each species** could be **misleading.**"
   ]
  },
  {
   "cell_type": "markdown",
   "id": "e8ac32d3",
   "metadata": {},
   "source": [
    "## Flipper Length Over Each Islands"
   ]
  },
  {
   "cell_type": "code",
   "execution_count": 1020,
   "id": "54c7c1a0",
   "metadata": {},
   "outputs": [
    {
     "name": "stdout",
     "output_type": "stream",
     "text": [
      "island\n",
      "1.0    168\n",
      "2.0    124\n",
      "0.0     52\n",
      "dtype: int64\n"
     ]
    }
   ],
   "source": [
    "print(penguins.value_counts(subset=penguins['island']))"
   ]
  },
  {
   "cell_type": "code",
   "execution_count": 1021,
   "id": "f412c6c3",
   "metadata": {},
   "outputs": [
    {
     "name": "stdout",
     "output_type": "stream",
     "text": [
      "191.38298470535312\n",
      "209.09615384615384\n",
      "192.32692307692307\n",
      "197.60202054281004\n"
     ]
    }
   ],
   "source": [
    "# we have to balance the data,then concanate the random chosen penguins from each island\n",
    "# I took n= 52 because 52 is the smallest value\n",
    "\n",
    "penguins_torgersen = penguins[penguins['island'] == 0.0].sample(n= 52)\n",
    "penguins_biscoe = penguins[penguins['island'] == 1.0].sample(n= 52)\n",
    "penguins_dream = penguins[penguins['island'] == 2.0].sample(n= 52)\n",
    "penguins_island = pd.concat([penguins_torgersen, penguins_biscoe, penguins_dream])\n",
    "\n",
    "\n",
    "print(penguins_torgersen['flipper_length_mm'].mean())\n",
    "print(penguins_biscoe['flipper_length_mm'].mean())\n",
    "print(penguins_dream['flipper_length_mm'].mean())\n",
    "print(penguins_island['flipper_length_mm'].mean())"
   ]
  },
  {
   "cell_type": "markdown",
   "id": "21eaf28b",
   "metadata": {},
   "source": [
    "As can be seen from the mean values of flipper lengths of the penguins from each island, **Biscoe island** have the **largest average flipper length**"
   ]
  },
  {
   "cell_type": "markdown",
   "id": "6d733b9e",
   "metadata": {},
   "source": [
    "## The relation between Sex and Flipper Length & Body Mass"
   ]
  },
  {
   "cell_type": "code",
   "execution_count": 1022,
   "id": "4fc0f2d2",
   "metadata": {},
   "outputs": [
    {
     "name": "stdout",
     "output_type": "stream",
     "text": [
      "sex\n",
      "0.0    179\n",
      "1.0    165\n",
      "dtype: int64\n"
     ]
    }
   ],
   "source": [
    "print(penguins.value_counts(subset=penguins['sex']))\n",
    "# 0.0 represents Males\n",
    "# 1.0 represents Females\n"
   ]
  },
  {
   "cell_type": "code",
   "execution_count": 1023,
   "id": "db8bf651",
   "metadata": {},
   "outputs": [
    {
     "data": {
      "image/png": "[encoded data removed]",
      "text/plain": [
       "<Figure size 576x432 with 1 Axes>"
      ]
     },
     "metadata": {
      "needs_background": "light"
     },
     "output_type": "display_data"
    }
   ],
   "source": [
    "penguins_males = penguins[penguins['sex'] == 0.0].sample(n= 165)\n",
    "penguins_females = penguins[penguins['sex'] == 1.0].sample(n= 165)\n",
    "males = list(penguins_males['body_mass_g'])\n",
    "females = list(penguins_females['body_mass_g'])\n",
    "plt.figure(figsize=(8,6))\n",
    "plt.hist(males, bins=9, alpha=0.5, label=\"Males\")\n",
    "plt.hist(females, bins=9, alpha=0.5, label=\"Females\")\n",
    "plt.xlabel(\"Body Mass\", size=14)\n",
    "plt.ylabel(\"# of Penguins\", size=14)\n",
    "plt.title(\"Body Mass for Sex\")\n",
    "plt.legend(loc='upper right')\n",
    "plt.show()"
   ]
  },
  {
   "cell_type": "code",
   "execution_count": 1024,
   "id": "a8d28e45",
   "metadata": {},
   "outputs": [
    {
     "name": "stdout",
     "output_type": "stream",
     "text": [
      "4491.990962254121\n",
      "3862.2727272727275\n"
     ]
    }
   ],
   "source": [
    "body_mass_mean_male = penguins_males['body_mass_g'].mean()\n",
    "body_mass_mean_female = penguins_females['body_mass_g'].mean()\n",
    "print(body_mass_mean_male)\n",
    "print(body_mass_mean_female)"
   ]
  },
  {
   "cell_type": "markdown",
   "id": "23bb3b63",
   "metadata": {},
   "source": [
    "According to overlapping histogram and mean values of body masses of males and females taken from 165 samples,\n",
    "\n",
    "**Avarage mass of males is 653 grams bigger than females.**\n"
   ]
  },
  {
   "cell_type": "markdown",
   "id": "cc702133",
   "metadata": {},
   "source": [
    "Also, we can examine relation between **body mass and flipper length for both sex**"
   ]
  },
  {
   "cell_type": "code",
   "execution_count": 1025,
   "id": "e7977d8a",
   "metadata": {},
   "outputs": [
    {
     "name": "stdout",
     "output_type": "stream",
     "text": [
      "0.867\n",
      "0.885\n"
     ]
    }
   ],
   "source": [
    "male_body_flipper_correlation = round(penguins_males['body_mass_g'].corr(penguins_males['flipper_length_mm']),3)\n",
    "female_body_flipper_correlation = round(penguins_females['body_mass_g'].corr(penguins_females['flipper_length_mm']),3)\n",
    "print(male_body_flipper_correlation) \n",
    "print(female_body_flipper_correlation)\n"
   ]
  },
  {
   "cell_type": "markdown",
   "id": "1a947db5",
   "metadata": {},
   "source": [
    "**The correlation** between **body mass and flipper length** for **males**: **0.869**\n",
    "\n",
    "**The correlation** between **body mass** and **flipper length** for **females**: **0.885**\n",
    "\n",
    "These values represent **very high**, **strong positive correlations**\n",
    "\n"
   ]
  },
  {
   "cell_type": "markdown",
   "id": "adb04339",
   "metadata": {},
   "source": [
    "# The Correlation Between of Species (class variable/label)  and other Variables"
   ]
  },
  {
   "cell_type": "markdown",
   "id": "01c141d9",
   "metadata": {},
   "source": [
    "**Most important part of the analysis** is where we try to find **correlation** between **species and other variables**"
   ]
  },
  {
   "cell_type": "markdown",
   "id": "56f200ac",
   "metadata": {},
   "source": [
    "# Species over island"
   ]
  },
  {
   "cell_type": "code",
   "execution_count": 1026,
   "id": "ded19d96",
   "metadata": {},
   "outputs": [
    {
     "name": "stdout",
     "output_type": "stream",
     "text": [
      "Torgersen:  species\n",
      "0.0    52\n",
      "dtype: int64\n",
      "---------------------------------------------------------------\n",
      "Biscoe:  species\n",
      "2.0    38\n",
      "0.0    14\n",
      "dtype: int64\n",
      "-------------------------------------------------------------------\n",
      "Dream:  species\n",
      "1.0    31\n",
      "0.0    21\n",
      "dtype: int64\n"
     ]
    }
   ],
   "source": [
    "\n",
    "pen_island = penguins['island']\n",
    "\n",
    "print(\"Torgersen: \", penguins.value_counts(subset = penguins_torgersen['species']))\n",
    "print('---------------------------------------------------------------')\n",
    "print(\"Biscoe: \", penguins.value_counts(subset = penguins_biscoe['species']))\n",
    "print('-------------------------------------------------------------------')\n",
    "print(\"Dream: \", penguins.value_counts(subset = penguins_dream['species']))"
   ]
  },
  {
   "cell_type": "markdown",
   "id": "87771854",
   "metadata": {},
   "source": [
    "According to the speficic dataframe, **Gentoo is only living at Biscoe island**, whereas **Chinstrap is only living at Dream island**"
   ]
  },
  {
   "cell_type": "code",
   "execution_count": 1027,
   "id": "e7083620",
   "metadata": {},
   "outputs": [
    {
     "data": {
      "text/html": [
       "<div>\n",
       "<style scoped>\n",
       "    .dataframe tbody tr th:only-of-type {\n",
       "        vertical-align: middle;\n",
       "    }\n",
       "\n",
       "    .dataframe tbody tr th {\n",
       "        vertical-align: top;\n",
       "    }\n",
       "\n",
       "    .dataframe thead th {\n",
       "        text-align: right;\n",
       "    }\n",
       "</style>\n",
       "<table border=\"1\" class=\"dataframe\">\n",
       "  <thead>\n",
       "    <tr style=\"text-align: right;\">\n",
       "      <th></th>\n",
       "      <th>island</th>\n",
       "      <th>culmen_length_mm</th>\n",
       "      <th>culmen_depth_mm</th>\n",
       "      <th>flipper_length_mm</th>\n",
       "      <th>body_mass_g</th>\n",
       "      <th>sex</th>\n",
       "    </tr>\n",
       "    <tr>\n",
       "      <th>species</th>\n",
       "      <th></th>\n",
       "      <th></th>\n",
       "      <th></th>\n",
       "      <th></th>\n",
       "      <th></th>\n",
       "      <th></th>\n",
       "    </tr>\n",
       "  </thead>\n",
       "  <tbody>\n",
       "    <tr>\n",
       "      <th>0.0</th>\n",
       "      <td>1.026316</td>\n",
       "      <td>38.825144</td>\n",
       "      <td>18.338495</td>\n",
       "      <td>190.025758</td>\n",
       "      <td>3703.958910</td>\n",
       "      <td>0.480263</td>\n",
       "    </tr>\n",
       "    <tr>\n",
       "      <th>1.0</th>\n",
       "      <td>2.000000</td>\n",
       "      <td>48.833824</td>\n",
       "      <td>18.420588</td>\n",
       "      <td>195.823529</td>\n",
       "      <td>3733.088235</td>\n",
       "      <td>0.500000</td>\n",
       "    </tr>\n",
       "    <tr>\n",
       "      <th>2.0</th>\n",
       "      <td>1.000000</td>\n",
       "      <td>47.475983</td>\n",
       "      <td>14.999606</td>\n",
       "      <td>217.055768</td>\n",
       "      <td>5068.965761</td>\n",
       "      <td>0.467742</td>\n",
       "    </tr>\n",
       "  </tbody>\n",
       "</table>\n",
       "</div>"
      ],
      "text/plain": [
       "           island  culmen_length_mm  culmen_depth_mm  flipper_length_mm  \\\n",
       "species                                                                   \n",
       "0.0      1.026316         38.825144        18.338495         190.025758   \n",
       "1.0      2.000000         48.833824        18.420588         195.823529   \n",
       "2.0      1.000000         47.475983        14.999606         217.055768   \n",
       "\n",
       "         body_mass_g       sex  \n",
       "species                         \n",
       "0.0      3703.958910  0.480263  \n",
       "1.0      3733.088235  0.500000  \n",
       "2.0      5068.965761  0.467742  "
      ]
     },
     "execution_count": 1027,
     "metadata": {},
     "output_type": "execute_result"
    }
   ],
   "source": [
    "penguins.groupby('species').mean()"
   ]
  },
  {
   "cell_type": "code",
   "execution_count": 1028,
   "id": "15fe8e69",
   "metadata": {},
   "outputs": [
    {
     "data": {
      "text/html": [
       "<div>\n",
       "<style scoped>\n",
       "    .dataframe tbody tr th:only-of-type {\n",
       "        vertical-align: middle;\n",
       "    }\n",
       "\n",
       "    .dataframe tbody tr th {\n",
       "        vertical-align: top;\n",
       "    }\n",
       "\n",
       "    .dataframe thead th {\n",
       "        text-align: right;\n",
       "    }\n",
       "</style>\n",
       "<table border=\"1\" class=\"dataframe\">\n",
       "  <thead>\n",
       "    <tr style=\"text-align: right;\">\n",
       "      <th></th>\n",
       "      <th>island</th>\n",
       "      <th>culmen_length_mm</th>\n",
       "      <th>culmen_depth_mm</th>\n",
       "      <th>flipper_length_mm</th>\n",
       "      <th>body_mass_g</th>\n",
       "      <th>sex</th>\n",
       "    </tr>\n",
       "    <tr>\n",
       "      <th>species</th>\n",
       "      <th></th>\n",
       "      <th></th>\n",
       "      <th></th>\n",
       "      <th></th>\n",
       "      <th></th>\n",
       "      <th></th>\n",
       "    </tr>\n",
       "  </thead>\n",
       "  <tbody>\n",
       "    <tr>\n",
       "      <th>0.0</th>\n",
       "      <td>156.0</td>\n",
       "      <td>5901.42193</td>\n",
       "      <td>2787.45117</td>\n",
       "      <td>28883.915205</td>\n",
       "      <td>563001.754386</td>\n",
       "      <td>73.0</td>\n",
       "    </tr>\n",
       "    <tr>\n",
       "      <th>1.0</th>\n",
       "      <td>136.0</td>\n",
       "      <td>3320.70000</td>\n",
       "      <td>1252.60000</td>\n",
       "      <td>13316.000000</td>\n",
       "      <td>253850.000000</td>\n",
       "      <td>34.0</td>\n",
       "    </tr>\n",
       "    <tr>\n",
       "      <th>2.0</th>\n",
       "      <td>124.0</td>\n",
       "      <td>5887.02193</td>\n",
       "      <td>1859.95117</td>\n",
       "      <td>26914.915205</td>\n",
       "      <td>628551.754386</td>\n",
       "      <td>58.0</td>\n",
       "    </tr>\n",
       "  </tbody>\n",
       "</table>\n",
       "</div>"
      ],
      "text/plain": [
       "         island  culmen_length_mm  culmen_depth_mm  flipper_length_mm  \\\n",
       "species                                                                 \n",
       "0.0       156.0        5901.42193       2787.45117       28883.915205   \n",
       "1.0       136.0        3320.70000       1252.60000       13316.000000   \n",
       "2.0       124.0        5887.02193       1859.95117       26914.915205   \n",
       "\n",
       "           body_mass_g   sex  \n",
       "species                       \n",
       "0.0      563001.754386  73.0  \n",
       "1.0      253850.000000  34.0  \n",
       "2.0      628551.754386  58.0  "
      ]
     },
     "execution_count": 1028,
     "metadata": {},
     "output_type": "execute_result"
    }
   ],
   "source": [
    "penguins.groupby('species').sum()\n"
   ]
  },
  {
   "cell_type": "markdown",
   "id": "b00511cb",
   "metadata": {},
   "source": [
    " # Important findings from above\n",
    " It seems like **body mass of gentoo** is **much bigger** than other two species.\n",
    " \n",
    " **Gento's flipper_length_mm** is **bigger** than other two species **by a big margin.**\n",
    " \n",
    " **Gento's culmen_depth** is **significantly smaller** than other two species\n",
    " \n",
    " **Adelie's culmen_length_mm** is **smaller** than other two species\n",
    " \n",
    " There is **no correlation** between **species and sex** variable."
   ]
  },
  {
   "cell_type": "code",
   "execution_count": 1029,
   "id": "edb5ca48",
   "metadata": {},
   "outputs": [
    {
     "data": {
      "image/png": "[encoded data removed]",
      "text/plain": [
       "<Figure size 1152x1152 with 1 Axes>"
      ]
     },
     "metadata": {
      "needs_background": "light"
     },
     "output_type": "display_data"
    },
    {
     "data": {
      "image/png": "[encoded data removed]",
      "text/plain": [
       "<Figure size 1152x1152 with 1 Axes>"
      ]
     },
     "metadata": {
      "needs_background": "light"
     },
     "output_type": "display_data"
    }
   ],
   "source": [
    "for i in ['island', 'body_mass_g']:\n",
    "    adelie = list(penguins['species'] == 0)\n",
    "    chinstrap = list(penguins['species'] == 1)\n",
    "    gentoo = list(penguins['species'] == 2)\n",
    "    sns.distplot(adelie, color='r', kde=False, bins=5)\n",
    "    sns.distplot(chinstrap, color='g', kde=False, bins=5)\n",
    "    sns.distplot(gentoo, color='b', kde=False, bins=5)\n",
    "    plt.legend(['adelie', 'chinstrap', 'gentoo'])\n",
    "    plt.title('Overlaid histogram for {}'.format(i))\n",
    "    plt.show()"
   ]
  },
  {
   "cell_type": "markdown",
   "id": "e72e53ff",
   "metadata": {},
   "source": [
    "### Therefore, we can drop sex variable from the dataframe"
   ]
  },
  {
   "cell_type": "code",
   "execution_count": 1030,
   "id": "570382c7",
   "metadata": {},
   "outputs": [],
   "source": [
    "variable_to_drop = ['sex']\n",
    "penguins.drop(variables_to_drop, axis=1, inplace=True)"
   ]
  },
  {
   "cell_type": "code",
   "execution_count": 1031,
   "id": "c11e5961",
   "metadata": {},
   "outputs": [
    {
     "data": {
      "text/html": [
       "<div>\n",
       "<style scoped>\n",
       "    .dataframe tbody tr th:only-of-type {\n",
       "        vertical-align: middle;\n",
       "    }\n",
       "\n",
       "    .dataframe tbody tr th {\n",
       "        vertical-align: top;\n",
       "    }\n",
       "\n",
       "    .dataframe thead th {\n",
       "        text-align: right;\n",
       "    }\n",
       "</style>\n",
       "<table border=\"1\" class=\"dataframe\">\n",
       "  <thead>\n",
       "    <tr style=\"text-align: right;\">\n",
       "      <th></th>\n",
       "      <th>species</th>\n",
       "      <th>island</th>\n",
       "      <th>culmen_length_mm</th>\n",
       "      <th>culmen_depth_mm</th>\n",
       "      <th>flipper_length_mm</th>\n",
       "      <th>body_mass_g</th>\n",
       "    </tr>\n",
       "  </thead>\n",
       "  <tbody>\n",
       "    <tr>\n",
       "      <th>0</th>\n",
       "      <td>0.0</td>\n",
       "      <td>0.0</td>\n",
       "      <td>39.10000</td>\n",
       "      <td>18.70000</td>\n",
       "      <td>181.000000</td>\n",
       "      <td>3750.000000</td>\n",
       "    </tr>\n",
       "    <tr>\n",
       "      <th>1</th>\n",
       "      <td>0.0</td>\n",
       "      <td>0.0</td>\n",
       "      <td>39.50000</td>\n",
       "      <td>17.40000</td>\n",
       "      <td>186.000000</td>\n",
       "      <td>3800.000000</td>\n",
       "    </tr>\n",
       "    <tr>\n",
       "      <th>2</th>\n",
       "      <td>0.0</td>\n",
       "      <td>0.0</td>\n",
       "      <td>40.30000</td>\n",
       "      <td>18.00000</td>\n",
       "      <td>195.000000</td>\n",
       "      <td>3250.000000</td>\n",
       "    </tr>\n",
       "    <tr>\n",
       "      <th>3</th>\n",
       "      <td>0.0</td>\n",
       "      <td>0.0</td>\n",
       "      <td>43.92193</td>\n",
       "      <td>17.15117</td>\n",
       "      <td>200.915205</td>\n",
       "      <td>4201.754386</td>\n",
       "    </tr>\n",
       "    <tr>\n",
       "      <th>4</th>\n",
       "      <td>0.0</td>\n",
       "      <td>0.0</td>\n",
       "      <td>36.70000</td>\n",
       "      <td>19.30000</td>\n",
       "      <td>193.000000</td>\n",
       "      <td>3450.000000</td>\n",
       "    </tr>\n",
       "  </tbody>\n",
       "</table>\n",
       "</div>"
      ],
      "text/plain": [
       "   species  island  culmen_length_mm  culmen_depth_mm  flipper_length_mm  \\\n",
       "0      0.0     0.0          39.10000         18.70000         181.000000   \n",
       "1      0.0     0.0          39.50000         17.40000         186.000000   \n",
       "2      0.0     0.0          40.30000         18.00000         195.000000   \n",
       "3      0.0     0.0          43.92193         17.15117         200.915205   \n",
       "4      0.0     0.0          36.70000         19.30000         193.000000   \n",
       "\n",
       "   body_mass_g  \n",
       "0  3750.000000  \n",
       "1  3800.000000  \n",
       "2  3250.000000  \n",
       "3  4201.754386  \n",
       "4  3450.000000  "
      ]
     },
     "execution_count": 1031,
     "metadata": {},
     "output_type": "execute_result"
    }
   ],
   "source": [
    "penguins.head()"
   ]
  },
  {
   "cell_type": "code",
   "execution_count": 1032,
   "id": "5e0cbf4a",
   "metadata": {},
   "outputs": [],
   "source": [
    "penguins.to_csv('penguins_cleaned.csv', index=False)"
   ]
  },
  {
   "cell_type": "code",
   "execution_count": 1033,
   "id": "2d6d44ba",
   "metadata": {},
   "outputs": [],
   "source": [
    "#-----------------------------------------------------------------------------------------------------------------\n",
    "#-----------------------------------------------------------------------------------------------------------------"
   ]
  },
  {
   "cell_type": "markdown",
   "id": "97fde008",
   "metadata": {},
   "source": [
    "# Splitting into training, validation and test data\n"
   ]
  },
  {
   "cell_type": "markdown",
   "id": "f2fbf7ea",
   "metadata": {},
   "source": [
    " ## Splitting into 60% Training / 20% Test / 20% Validation"
   ]
  },
  {
   "cell_type": "code",
   "execution_count": 1034,
   "id": "d71df4d0",
   "metadata": {},
   "outputs": [],
   "source": [
    "penguins = pd.read_csv('penguins_cleaned.csv')"
   ]
  },
  {
   "cell_type": "code",
   "execution_count": 1035,
   "id": "0b1c037e",
   "metadata": {},
   "outputs": [],
   "source": [
    "#reference used: I used the way that the Professor showed on lectures to split data into training and validation data\n",
    "\n",
    "features = penguins.drop('species', axis=1)\n",
    "labels = penguins['species']\n",
    "X_train, X_test, y_train, y_test = train_test_split(features, labels, test_size=0.4, random_state=42)\n",
    "X_test, X_val, y_test, y_val = train_test_split(X_test, y_test, test_size=0.5, random_state=42)"
   ]
  },
  {
   "cell_type": "code",
   "execution_count": 1036,
   "id": "0c805dbf",
   "metadata": {},
   "outputs": [
    {
     "name": "stdout",
     "output_type": "stream",
     "text": [
      "0.6\n",
      "0.2\n",
      "0.2\n"
     ]
    }
   ],
   "source": [
    "for dataset in [y_train, y_val, y_test]:\n",
    "    print(round(len(dataset) / len(labels), 2))"
   ]
  },
  {
   "cell_type": "code",
   "execution_count": 1037,
   "id": "0e911a5d",
   "metadata": {},
   "outputs": [],
   "source": [
    "X_train.to_csv('train60_features.csv', index=False)\n",
    "X_val.to_csv('val20_features.csv', index=False)\n",
    "X_test.to_csv('test20_features.csv', index=False)\n",
    "\n",
    "y_train.to_csv('train60_labels.csv', index=False)\n",
    "y_val.to_csv('val20_labels.csv', index=False)\n",
    "y_test.to_csv('test20_labels.csv', index=False)"
   ]
  },
  {
   "cell_type": "markdown",
   "id": "dad6a22d",
   "metadata": {},
   "source": [
    " ## Splitting into 80% Training / 10% Test / 10% Validation"
   ]
  },
  {
   "cell_type": "code",
   "execution_count": 1038,
   "id": "54ffba51",
   "metadata": {},
   "outputs": [],
   "source": [
    "#reference used: I used the way that the Professor showed on lectures to split data into training and validation data\n",
    "\n",
    "X80_train, X10_test, y80_train, y10_test = train_test_split(features, labels, test_size=0.2, random_state=42)\n",
    "X10_test, X10_val, y10_test, y10_val = train_test_split(X10_test, y10_test, test_size=0.5, random_state=42)"
   ]
  },
  {
   "cell_type": "code",
   "execution_count": 1039,
   "id": "c78682f2",
   "metadata": {},
   "outputs": [
    {
     "name": "stdout",
     "output_type": "stream",
     "text": [
      "0.8\n",
      "0.1\n",
      "0.1\n"
     ]
    }
   ],
   "source": [
    "for dataset in [y80_train, y10_val, y10_test]:\n",
    "    print(round(len(dataset) / len(labels), 2))"
   ]
  },
  {
   "cell_type": "code",
   "execution_count": 1040,
   "id": "7cb7ca18",
   "metadata": {},
   "outputs": [],
   "source": [
    "X80_train.to_csv('train80_features.csv', index=False)\n",
    "X10_val.to_csv('val10_features.csv', index=False)\n",
    "X10_test.to_csv('test10_features.csv', index=False)\n",
    "\n",
    "y80_train.to_csv('train80_labels.csv', index=False)\n",
    "y10_val.to_csv('val10_labels.csv', index=False)\n",
    "y10_test.to_csv('test10_labels.csv', index=False)"
   ]
  },
  {
   "cell_type": "code",
   "execution_count": 1041,
   "id": "f51bb511",
   "metadata": {},
   "outputs": [],
   "source": [
    "#-----------------------------------------------------------------------------------------------------------------\n",
    "#-----------------------------------------------------------------------------------------------------------------"
   ]
  },
  {
   "cell_type": "markdown",
   "id": "7bec5cf3",
   "metadata": {},
   "source": [
    "## 1- Logistic Regression with 60% Training / 20% Test / 20% Validation:"
   ]
  },
  {
   "cell_type": "code",
   "execution_count": 1042,
   "id": "0fccd9e7",
   "metadata": {},
   "outputs": [],
   "source": [
    "def plot_learning_curve_graph(tr_features, tr_labels, classifier):\n",
    "        X, y = tr_features, tr_labels\n",
    "        train_sizes, train_scores, test_scores = learning_curve(classifier, X, y, scoring=\"accuracy\", train_sizes=np.linspace(0.01, 1.0, 50))\n",
    "        np.mean(train_scores, axis=1)\n",
    "        train_mean = np.mean(train_scores, axis=1)\n",
    "        train_std = np.std(train_scores, axis=1)\n",
    "\n",
    "        test_mean = np.mean(test_scores, axis=1)\n",
    "        test_std = np.std(test_scores, axis=1)\n",
    "        plt.subplots(1, figsize=(10,10))\n",
    "        plt.plot(train_sizes, train_mean, '--', color=\"#111111\",  label=\"Training score\")\n",
    "        plt.plot(train_sizes, test_mean, color=\"#111111\", label=\"Cross-validation score\")\n",
    "        \n",
    "        plt.title(\"Learning Curve\")\n",
    "        plt.xlabel(\"Training Set Size\"), plt.ylabel(\"Accuracy Score\"), plt.legend(loc=\"best\")\n",
    "        plt.tight_layout()\n",
    "        plt.show()"
   ]
  },
  {
   "cell_type": "code",
   "execution_count": 1043,
   "id": "aaba7084",
   "metadata": {},
   "outputs": [],
   "source": [
    "tr_features = pd.read_csv('train60_features.csv')\n",
    "tr_labels = pd.read_csv('train60_labels.csv')"
   ]
  },
  {
   "cell_type": "code",
   "execution_count": 1044,
   "id": "20531aee",
   "metadata": {},
   "outputs": [],
   "source": [
    "def print_results(results):\n",
    "    print('BEST PARAMS: {}\\n'.format(results.best_params_))\n",
    "\n",
    "    means = results.cv_results_['mean_test_score']\n",
    "    stds = results.cv_results_['std_test_score']\n",
    "    for mean, std, params in zip(means, stds, results.cv_results_['params']):\n",
    "        print('{} (+/-{}) for {}'.format(round(mean, 3), round(std * 2, 3), params))"
   ]
  },
  {
   "cell_type": "code",
   "execution_count": 1045,
   "id": "46b204ba",
   "metadata": {
    "scrolled": false
   },
   "outputs": [
    {
     "name": "stdout",
     "output_type": "stream",
     "text": [
      "80-10-10\n",
      "BEST PARAMS: {'C': 1}\n",
      "\n",
      "0.874 (+/-0.063) for {'C': 0.001}\n",
      "0.971 (+/-0.036) for {'C': 0.01}\n",
      "0.976 (+/-0.03) for {'C': 0.1}\n",
      "0.981 (+/-0.019) for {'C': 1}\n",
      "0.976 (+/-0.03) for {'C': 10}\n",
      "0.976 (+/-0.031) for {'C': 100}\n",
      "0.971 (+/-0.036) for {'C': 1000}\n"
     ]
    },
    {
     "data": {
      "image/png": "[encoded data removed]",
      "text/plain": [
       "<Figure size 720x720 with 1 Axes>"
      ]
     },
     "metadata": {
      "needs_background": "light"
     },
     "output_type": "display_data"
    },
    {
     "data": {
      "text/plain": [
       "['penguins_LR60_model.pkl']"
      ]
     },
     "execution_count": 1045,
     "metadata": {},
     "output_type": "execute_result"
    }
   ],
   "source": [
    "# I did find optimal parameters and plot learning curve at the same time\n",
    "\n",
    "lr = LogisticRegression()\n",
    "parameters = {\n",
    "    'C': [0.001, 0.01, 0.1, 1, 10, 100, 1000]\n",
    "}\n",
    "\n",
    "cv = GridSearchCV(lr, parameters, cv=5)\n",
    "cv.fit(tr_features, tr_labels.values.ravel())\n",
    "\n",
    "print(title)\n",
    "print_results(cv)\n",
    "plot_learning_curve_graph(tr_features, tr_labels, cv.best_estimator_)   \n",
    "joblib.dump(cv.best_estimator_, 'penguins_LR60_model.pkl')\n"
   ]
  },
  {
   "cell_type": "markdown",
   "id": "bdf516e9",
   "metadata": {},
   "source": [
    "## Outcomes of finding best paremeters and learning curve for Logistic Regression with 60% Training / 20% Test / 20% Validation"
   ]
  },
  {
   "cell_type": "markdown",
   "id": "06b46d16",
   "metadata": {},
   "source": [
    "## According to learning curve, and best parameters output:\n",
    "\n",
    "- **The training score** is **1.0 or almost 1** until the **traning set size** is **between 20 and 30**\n",
    "- In general, **the traning score** got **lower** when **the training set** size gets **bigger**\n",
    "- In general, **Cross-validation score increases**, when the **training set** size **increases**\n",
    "- **The training score is considerably high**\n",
    "- **BEST PARAMS: {'C': 1}**\n"
   ]
  },
  {
   "cell_type": "code",
   "execution_count": 1046,
   "id": "963022bf",
   "metadata": {},
   "outputs": [],
   "source": [
    "#-----------------------------------------------------------------------------------------------------------------\n",
    "#-----------------------------------------------------------------------------------------------------------------"
   ]
  },
  {
   "cell_type": "markdown",
   "id": "d69f3807",
   "metadata": {},
   "source": [
    "## 1- Logistic Regression with 80% Training / 10% Test / 10% Validation:\n"
   ]
  },
  {
   "cell_type": "code",
   "execution_count": 1047,
   "id": "9e633ac9",
   "metadata": {},
   "outputs": [],
   "source": [
    "tr_features_80 = pd.read_csv('train80_features.csv')\n",
    "tr_labels_80 = pd.read_csv('train80_labels.csv')"
   ]
  },
  {
   "cell_type": "code",
   "execution_count": 1048,
   "id": "444f0f94",
   "metadata": {},
   "outputs": [],
   "source": [
    "def print_results(results):\n",
    "    print('BEST PARAMS: {}\\n'.format(results.best_params_))\n",
    "\n",
    "    means = results.cv_results_['mean_test_score']\n",
    "    stds = results.cv_results_['std_test_score']\n",
    "    for mean, std, params in zip(means, stds, results.cv_results_['params']):\n",
    "        print('{} (+/-{}) for {}'.format(round(mean, 3), round(std * 2, 3), params))"
   ]
  },
  {
   "cell_type": "code",
   "execution_count": 1049,
   "id": "a2940e68",
   "metadata": {},
   "outputs": [
    {
     "name": "stdout",
     "output_type": "stream",
     "text": [
      "80-10-10\n",
      "BEST PARAMS: {'C': 1000}\n",
      "\n",
      "0.88 (+/-0.075) for {'C': 0.001}\n",
      "0.978 (+/-0.036) for {'C': 0.01}\n",
      "0.975 (+/-0.029) for {'C': 0.1}\n",
      "0.978 (+/-0.036) for {'C': 1}\n",
      "0.971 (+/-0.049) for {'C': 10}\n",
      "0.978 (+/-0.036) for {'C': 100}\n",
      "0.982 (+/-0.023) for {'C': 1000}\n"
     ]
    },
    {
     "data": {
      "image/png": "[encoded data removed]",
      "text/plain": [
       "<Figure size 720x720 with 1 Axes>"
      ]
     },
     "metadata": {
      "needs_background": "light"
     },
     "output_type": "display_data"
    },
    {
     "data": {
      "text/plain": [
       "['penguins_LR80_model.pkl']"
      ]
     },
     "execution_count": 1049,
     "metadata": {},
     "output_type": "execute_result"
    }
   ],
   "source": [
    "# I did find optimal parameters and plot learning curve at the same time\n",
    "# reference used: parameters were written in provided notebooks by Professor\n",
    "\n",
    "\n",
    "lr = LogisticRegression()\n",
    "parameters = {\n",
    "    'C': [0.001, 0.01, 0.1, 1, 10, 100, 1000]\n",
    "}\n",
    "\n",
    "cv = GridSearchCV(lr, parameters, cv=5)\n",
    "cv.fit(tr_features_80, tr_labels_80.values.ravel())\n",
    "\n",
    "title = '80-10-10'     \n",
    "print(title)\n",
    "print_results(cv)\n",
    "plot_learning_curve_graph(tr_features, tr_labels, cv.best_estimator_) \n",
    "joblib.dump(cv.best_estimator_, 'penguins_LR80_model.pkl')"
   ]
  },
  {
   "cell_type": "markdown",
   "id": "ab3908ce",
   "metadata": {},
   "source": [
    "## Outcomes of finding best paremeters and learning curve for Logistic Regression with 80% Training / 10% Test / 10% Validation"
   ]
  },
  {
   "cell_type": "markdown",
   "id": "623f92b2",
   "metadata": {},
   "source": [
    "## According to learning curve, and best parameters output:\n",
    "\n",
    "- Again, **The training score** is **1.0 or almost 1** until the **traning set size** is **between 0 and 30**\n",
    "- Unlike 60-20-20 split, **the traning score** **almost stayed the same** when **the training set** size gets **bigger**\n",
    "- Similary, **Cross-validation score increases**, when the **training set** size **increases**\n",
    "- **The training score seems to be higher than 60-20-20 split**\n",
    "- **BEST PARAMS: {'C': 1000}**"
   ]
  },
  {
   "cell_type": "code",
   "execution_count": 1050,
   "id": "3656b0db",
   "metadata": {},
   "outputs": [],
   "source": [
    "#-----------------------------------------------------------------------------------------------------------------\n",
    "#-----------------------------------------------------------------------------------------------------------------"
   ]
  },
  {
   "cell_type": "markdown",
   "id": "76d38adb",
   "metadata": {},
   "source": [
    "## 2- Multilayer Perceptron with 60% Training / 20% Test / 20% Validation:\n"
   ]
  },
  {
   "cell_type": "code",
   "execution_count": 1051,
   "id": "4e9fdb25",
   "metadata": {},
   "outputs": [],
   "source": [
    "tr_features = pd.read_csv('train_features.csv')\n",
    "tr_labels = pd.read_csv('train_labels.csv')"
   ]
  },
  {
   "cell_type": "code",
   "execution_count": 1052,
   "id": "9db57559",
   "metadata": {},
   "outputs": [],
   "source": [
    "def print_results(results):\n",
    "    print('BEST PARAMS: {}\\n'.format(results.best_params_))\n",
    "\n",
    "    means = results.cv_results_['mean_test_score']\n",
    "    stds = results.cv_results_['std_test_score']\n",
    "    for mean, std, params in zip(means, stds, results.cv_results_['params']):\n",
    "        print('{} (+/-{}) for {}'.format(round(mean, 3), round(std * 2, 3), params))"
   ]
  },
  {
   "cell_type": "code",
   "execution_count": 1053,
   "id": "dbb1abcf",
   "metadata": {},
   "outputs": [
    {
     "name": "stdout",
     "output_type": "stream",
     "text": [
      "80-10-10\n",
      "BEST PARAMS: {'activation': 'logistic', 'hidden_layer_sizes': (100,), 'learning_rate': 'constant'}\n",
      "\n",
      "0.369 (+/-0.164) for {'activation': 'relu', 'hidden_layer_sizes': (10,), 'learning_rate': 'constant'}\n",
      "0.365 (+/-0.164) for {'activation': 'relu', 'hidden_layer_sizes': (10,), 'learning_rate': 'invscaling'}\n",
      "0.315 (+/-0.17) for {'activation': 'relu', 'hidden_layer_sizes': (10,), 'learning_rate': 'adaptive'}\n",
      "0.31 (+/-0.178) for {'activation': 'relu', 'hidden_layer_sizes': (50,), 'learning_rate': 'constant'}\n",
      "0.388 (+/-0.214) for {'activation': 'relu', 'hidden_layer_sizes': (50,), 'learning_rate': 'invscaling'}\n",
      "0.339 (+/-0.253) for {'activation': 'relu', 'hidden_layer_sizes': (50,), 'learning_rate': 'adaptive'}\n",
      "0.399 (+/-0.321) for {'activation': 'relu', 'hidden_layer_sizes': (100,), 'learning_rate': 'constant'}\n",
      "0.461 (+/-0.146) for {'activation': 'relu', 'hidden_layer_sizes': (100,), 'learning_rate': 'invscaling'}\n",
      "0.325 (+/-0.131) for {'activation': 'relu', 'hidden_layer_sizes': (100,), 'learning_rate': 'adaptive'}\n",
      "0.388 (+/-0.17) for {'activation': 'tanh', 'hidden_layer_sizes': (10,), 'learning_rate': 'constant'}\n",
      "0.427 (+/-0.022) for {'activation': 'tanh', 'hidden_layer_sizes': (10,), 'learning_rate': 'invscaling'}\n",
      "0.417 (+/-0.055) for {'activation': 'tanh', 'hidden_layer_sizes': (10,), 'learning_rate': 'adaptive'}\n",
      "0.471 (+/-0.241) for {'activation': 'tanh', 'hidden_layer_sizes': (50,), 'learning_rate': 'constant'}\n",
      "0.417 (+/-0.055) for {'activation': 'tanh', 'hidden_layer_sizes': (50,), 'learning_rate': 'invscaling'}\n",
      "0.486 (+/-0.222) for {'activation': 'tanh', 'hidden_layer_sizes': (50,), 'learning_rate': 'adaptive'}\n",
      "0.543 (+/-0.276) for {'activation': 'tanh', 'hidden_layer_sizes': (100,), 'learning_rate': 'constant'}\n",
      "0.525 (+/-0.251) for {'activation': 'tanh', 'hidden_layer_sizes': (100,), 'learning_rate': 'invscaling'}\n",
      "0.534 (+/-0.307) for {'activation': 'tanh', 'hidden_layer_sizes': (100,), 'learning_rate': 'adaptive'}\n",
      "0.481 (+/-0.203) for {'activation': 'logistic', 'hidden_layer_sizes': (10,), 'learning_rate': 'constant'}\n",
      "0.456 (+/-0.13) for {'activation': 'logistic', 'hidden_layer_sizes': (10,), 'learning_rate': 'invscaling'}\n",
      "0.427 (+/-0.022) for {'activation': 'logistic', 'hidden_layer_sizes': (10,), 'learning_rate': 'adaptive'}\n",
      "0.572 (+/-0.26) for {'activation': 'logistic', 'hidden_layer_sizes': (50,), 'learning_rate': 'constant'}\n",
      "0.486 (+/-0.222) for {'activation': 'logistic', 'hidden_layer_sizes': (50,), 'learning_rate': 'invscaling'}\n",
      "0.491 (+/-0.242) for {'activation': 'logistic', 'hidden_layer_sizes': (50,), 'learning_rate': 'adaptive'}\n",
      "0.656 (+/-0.229) for {'activation': 'logistic', 'hidden_layer_sizes': (100,), 'learning_rate': 'constant'}\n",
      "0.603 (+/-0.297) for {'activation': 'logistic', 'hidden_layer_sizes': (100,), 'learning_rate': 'invscaling'}\n",
      "0.534 (+/-0.282) for {'activation': 'logistic', 'hidden_layer_sizes': (100,), 'learning_rate': 'adaptive'}\n"
     ]
    },
    {
     "data": {
      "image/png": "[encoded data removed]",
      "text/plain": [
       "<Figure size 720x720 with 1 Axes>"
      ]
     },
     "metadata": {
      "needs_background": "light"
     },
     "output_type": "display_data"
    },
    {
     "data": {
      "text/plain": [
       "['penguins_MP60_model.pkl']"
      ]
     },
     "execution_count": 1053,
     "metadata": {},
     "output_type": "execute_result"
    }
   ],
   "source": [
    "# I did find optimal parameters and plot learning curve at the same time\n",
    "# reference used: parameters were written in provided notebooks by Professor\n",
    "\n",
    "\n",
    "mlp = MLPClassifier()\n",
    "parameters = {\n",
    "    'hidden_layer_sizes': [(10,), (50,), (100,)],\n",
    "    'activation': ['relu', 'tanh', 'logistic'],\n",
    "    'learning_rate': ['constant', 'invscaling', 'adaptive']\n",
    "}\n",
    "\n",
    "cv = GridSearchCV(mlp, parameters, cv=5)\n",
    "cv.fit(tr_features, tr_labels.values.ravel())\n",
    "       \n",
    "print(title)\n",
    "print_results(cv)\n",
    "plot_learning_curve_graph(tr_features, tr_labels, cv.best_estimator_) \n",
    "joblib.dump(cv.best_estimator_, 'penguins_MP60_model.pkl')"
   ]
  },
  {
   "cell_type": "markdown",
   "id": "8d699caa",
   "metadata": {},
   "source": [
    "## Outcomes of finding best paremeters and learning curve for Multilayer Perceptron with 60% Training / 20% Test / 20% Validation:\n"
   ]
  },
  {
   "cell_type": "markdown",
   "id": "81bc3608",
   "metadata": {},
   "source": [
    "## According to learning curve, and best parameters output:\n",
    "\n",
    "- In general, **Cross-validation score and training score always fluactuates**\n",
    "- **The training score** is **significantly low compared to Logistic Regression** since **Multilayer Perceptron requires a large amount of data** and this dataset is **not large**\n",
    "- **BEST PARAMS: {'activation': 'logistic', 'hidden_layer_sizes': (100,), 'learning_rate': 'adaptive'}**\n"
   ]
  },
  {
   "cell_type": "code",
   "execution_count": 1054,
   "id": "a7557a7e",
   "metadata": {},
   "outputs": [],
   "source": [
    "#-----------------------------------------------------------------------------------------------------------------\n",
    "#-----------------------------------------------------------------------------------------------------------------"
   ]
  },
  {
   "cell_type": "markdown",
   "id": "05ec2880",
   "metadata": {},
   "source": [
    "## 2- Multilayer Perceptron with 80% Training / 10% Test / 10% Validation:"
   ]
  },
  {
   "cell_type": "code",
   "execution_count": 1055,
   "id": "4a3fb1cc",
   "metadata": {},
   "outputs": [],
   "source": [
    "tr_features_80 = pd.read_csv('train80_features.csv')\n",
    "tr_labels_80 = pd.read_csv('train80_labels.csv')"
   ]
  },
  {
   "cell_type": "code",
   "execution_count": 1056,
   "id": "28a5d297",
   "metadata": {},
   "outputs": [],
   "source": [
    "def print_results(results):\n",
    "    print('BEST PARAMS: {}\\n'.format(results.best_params_))\n",
    "\n",
    "    means = results.cv_results_['mean_test_score']\n",
    "    stds = results.cv_results_['std_test_score']\n",
    "    for mean, std, params in zip(means, stds, results.cv_results_['params']):\n",
    "        print('{} (+/-{}) for {}'.format(round(mean, 3), round(std * 2, 3), params))"
   ]
  },
  {
   "cell_type": "code",
   "execution_count": 1057,
   "id": "30f4b4ee",
   "metadata": {},
   "outputs": [
    {
     "name": "stdout",
     "output_type": "stream",
     "text": [
      "80-10-10 Split\n",
      "BEST PARAMS: {'activation': 'logistic', 'hidden_layer_sizes': (50,), 'learning_rate': 'adaptive'}\n",
      "\n",
      "0.476 (+/-0.223) for {'activation': 'relu', 'hidden_layer_sizes': (10,), 'learning_rate': 'constant'}\n",
      "0.36 (+/-0.183) for {'activation': 'relu', 'hidden_layer_sizes': (10,), 'learning_rate': 'invscaling'}\n",
      "0.295 (+/-0.252) for {'activation': 'relu', 'hidden_layer_sizes': (10,), 'learning_rate': 'adaptive'}\n",
      "0.418 (+/-0.324) for {'activation': 'relu', 'hidden_layer_sizes': (50,), 'learning_rate': 'constant'}\n",
      "0.422 (+/-0.18) for {'activation': 'relu', 'hidden_layer_sizes': (50,), 'learning_rate': 'invscaling'}\n",
      "0.422 (+/-0.526) for {'activation': 'relu', 'hidden_layer_sizes': (50,), 'learning_rate': 'adaptive'}\n",
      "0.469 (+/-0.333) for {'activation': 'relu', 'hidden_layer_sizes': (100,), 'learning_rate': 'constant'}\n",
      "0.425 (+/-0.141) for {'activation': 'relu', 'hidden_layer_sizes': (100,), 'learning_rate': 'invscaling'}\n",
      "0.425 (+/-0.227) for {'activation': 'relu', 'hidden_layer_sizes': (100,), 'learning_rate': 'adaptive'}\n",
      "0.436 (+/-0.0) for {'activation': 'tanh', 'hidden_layer_sizes': (10,), 'learning_rate': 'constant'}\n",
      "0.436 (+/-0.0) for {'activation': 'tanh', 'hidden_layer_sizes': (10,), 'learning_rate': 'invscaling'}\n",
      "0.476 (+/-0.16) for {'activation': 'tanh', 'hidden_layer_sizes': (10,), 'learning_rate': 'adaptive'}\n",
      "0.647 (+/-0.218) for {'activation': 'tanh', 'hidden_layer_sizes': (50,), 'learning_rate': 'constant'}\n",
      "0.553 (+/-0.286) for {'activation': 'tanh', 'hidden_layer_sizes': (50,), 'learning_rate': 'invscaling'}\n",
      "0.542 (+/-0.261) for {'activation': 'tanh', 'hidden_layer_sizes': (50,), 'learning_rate': 'adaptive'}\n",
      "0.451 (+/-0.143) for {'activation': 'tanh', 'hidden_layer_sizes': (100,), 'learning_rate': 'constant'}\n",
      "0.6 (+/-0.215) for {'activation': 'tanh', 'hidden_layer_sizes': (100,), 'learning_rate': 'invscaling'}\n",
      "0.516 (+/-0.196) for {'activation': 'tanh', 'hidden_layer_sizes': (100,), 'learning_rate': 'adaptive'}\n",
      "0.509 (+/-0.291) for {'activation': 'logistic', 'hidden_layer_sizes': (10,), 'learning_rate': 'constant'}\n",
      "0.545 (+/-0.271) for {'activation': 'logistic', 'hidden_layer_sizes': (10,), 'learning_rate': 'invscaling'}\n",
      "0.436 (+/-0.0) for {'activation': 'logistic', 'hidden_layer_sizes': (10,), 'learning_rate': 'adaptive'}\n",
      "0.516 (+/-0.196) for {'activation': 'logistic', 'hidden_layer_sizes': (50,), 'learning_rate': 'constant'}\n",
      "0.578 (+/-0.235) for {'activation': 'logistic', 'hidden_layer_sizes': (50,), 'learning_rate': 'invscaling'}\n",
      "0.709 (+/-0.128) for {'activation': 'logistic', 'hidden_layer_sizes': (50,), 'learning_rate': 'adaptive'}\n",
      "0.549 (+/-0.282) for {'activation': 'logistic', 'hidden_layer_sizes': (100,), 'learning_rate': 'constant'}\n",
      "0.567 (+/-0.321) for {'activation': 'logistic', 'hidden_layer_sizes': (100,), 'learning_rate': 'invscaling'}\n",
      "0.662 (+/-0.228) for {'activation': 'logistic', 'hidden_layer_sizes': (100,), 'learning_rate': 'adaptive'}\n"
     ]
    },
    {
     "data": {
      "image/png": "[encoded data removed]",
      "text/plain": [
       "<Figure size 720x720 with 1 Axes>"
      ]
     },
     "metadata": {
      "needs_background": "light"
     },
     "output_type": "display_data"
    },
    {
     "data": {
      "text/plain": [
       "['penguins_MP80_model.pkl']"
      ]
     },
     "execution_count": 1057,
     "metadata": {},
     "output_type": "execute_result"
    }
   ],
   "source": [
    "# I did find optimal parameters and plot learning curve at the same time\n",
    "# reference used: parameters were written in provided notebooks by Professor\n",
    "\n",
    "mlp = MLPClassifier()\n",
    "parameters = {\n",
    "    'hidden_layer_sizes': [(10,), (50,), (100,)],\n",
    "    'activation': ['relu', 'tanh', 'logistic'],\n",
    "    'learning_rate': ['constant', 'invscaling', 'adaptive']\n",
    "}\n",
    "\n",
    "cv = GridSearchCV(mlp, parameters, cv=5)\n",
    "cv.fit(tr_features_80, tr_labels_80.values.ravel())\n",
    "title = '80-10-10 Split'\n",
    "print(title)\n",
    "print_results(cv)\n",
    "plot_learning_curve_graph(tr_features, tr_labels, cv.best_estimator_) \n",
    "joblib.dump(cv.best_estimator_, 'penguins_MP80_model.pkl')"
   ]
  },
  {
   "cell_type": "markdown",
   "id": "bfe62e9c",
   "metadata": {},
   "source": [
    "## Outcomes of finding best paremeters and learning curve for Multilayer Perceptron with 80% Training / 10% Test / 10% Validation:"
   ]
  },
  {
   "cell_type": "markdown",
   "id": "81a150bc",
   "metadata": {},
   "source": [
    "## According to learning curve, and best parameters output:\n",
    "\n",
    "- Similarly, **Cross-validation score and training score always fluactuates**\n",
    "- **The training score** is **significantly low compared to Logistic Regression** since **Multilayer Perceptron requires a large amount of data** and this dataset is **not large**\n",
    "- **BEST PARAMS: {'activation': 'logistic', 'hidden_layer_sizes': (100,), 'learning_rate': 'invscaling'}**\n"
   ]
  },
  {
   "cell_type": "code",
   "execution_count": 1058,
   "id": "04e9ab01",
   "metadata": {},
   "outputs": [],
   "source": [
    "#-----------------------------------------------------------------------------------------------------------------\n",
    "#-----------------------------------------------------------------------------------------------------------------"
   ]
  },
  {
   "cell_type": "markdown",
   "id": "14fd6512",
   "metadata": {},
   "source": [
    "## 3- Random Forest with 60% Training / 20% Test / 20% Validation:"
   ]
  },
  {
   "cell_type": "code",
   "execution_count": 1059,
   "id": "e5c79da7",
   "metadata": {},
   "outputs": [],
   "source": [
    "tr_features = pd.read_csv('train60_features.csv')\n",
    "tr_labels = pd.read_csv('train60_labels.csv')\n"
   ]
  },
  {
   "cell_type": "code",
   "execution_count": 1060,
   "id": "2284f99b",
   "metadata": {},
   "outputs": [],
   "source": [
    "def print_results(results):\n",
    "    print('BEST PARAMS: {}\\n'.format(results.best_params_))\n",
    "\n",
    "    means = results.cv_results_['mean_test_score']\n",
    "    stds = results.cv_results_['std_test_score']\n",
    "    for mean, std, params in zip(means, stds, results.cv_results_['params']):\n",
    "        print('{} (+/-{}) for {}'.format(round(mean, 3), round(std * 2, 3), params))"
   ]
  },
  {
   "cell_type": "code",
   "execution_count": 1061,
   "id": "f2cb9449",
   "metadata": {},
   "outputs": [
    {
     "name": "stdout",
     "output_type": "stream",
     "text": [
      "BEST PARAMS: {'max_depth': None, 'n_estimators': 5}\n",
      "\n",
      "0.903 (+/-0.148) for {'max_depth': 2, 'n_estimators': 5}\n",
      "0.971 (+/-0.019) for {'max_depth': 2, 'n_estimators': 50}\n",
      "0.966 (+/-0.023) for {'max_depth': 2, 'n_estimators': 250}\n",
      "0.971 (+/-0.047) for {'max_depth': 4, 'n_estimators': 5}\n",
      "0.976 (+/-0.03) for {'max_depth': 4, 'n_estimators': 50}\n",
      "0.976 (+/-0.03) for {'max_depth': 4, 'n_estimators': 250}\n",
      "0.966 (+/-0.039) for {'max_depth': 8, 'n_estimators': 5}\n",
      "0.981 (+/-0.036) for {'max_depth': 8, 'n_estimators': 50}\n",
      "0.981 (+/-0.036) for {'max_depth': 8, 'n_estimators': 250}\n",
      "0.961 (+/-0.038) for {'max_depth': 16, 'n_estimators': 5}\n",
      "0.981 (+/-0.036) for {'max_depth': 16, 'n_estimators': 50}\n",
      "0.981 (+/-0.036) for {'max_depth': 16, 'n_estimators': 250}\n",
      "0.966 (+/-0.049) for {'max_depth': 32, 'n_estimators': 5}\n",
      "0.981 (+/-0.036) for {'max_depth': 32, 'n_estimators': 50}\n",
      "0.976 (+/-0.03) for {'max_depth': 32, 'n_estimators': 250}\n",
      "0.995 (+/-0.019) for {'max_depth': None, 'n_estimators': 5}\n",
      "0.986 (+/-0.038) for {'max_depth': None, 'n_estimators': 50}\n",
      "0.981 (+/-0.036) for {'max_depth': None, 'n_estimators': 250}\n"
     ]
    },
    {
     "data": {
      "image/png": "[encoded data removed]",
      "text/plain": [
       "<Figure size 720x720 with 1 Axes>"
      ]
     },
     "metadata": {
      "needs_background": "light"
     },
     "output_type": "display_data"
    },
    {
     "data": {
      "text/plain": [
       "['penguins_RF60_model.pkl']"
      ]
     },
     "execution_count": 1061,
     "metadata": {},
     "output_type": "execute_result"
    }
   ],
   "source": [
    "# I did find optimal parameters and plot learning curve at the same time\n",
    "# reference used: parameters were written in provided notebooks by Professor\n",
    "\n",
    "rf = RandomForestClassifier()\n",
    "parameters = {\n",
    "    'n_estimators': [5, 50, 250],\n",
    "    'max_depth': [2, 4, 8, 16, 32, None]\n",
    "}\n",
    "\n",
    "cv = GridSearchCV(rf, parameters, cv=5)\n",
    "cv.fit(tr_features, tr_labels.values.ravel())\n",
    "print_results(cv)\n",
    "plot_learning_curve_graph(tr_features, tr_labels, cv.best_estimator_)\n",
    "joblib.dump(cv.best_estimator_, 'penguins_RF60_model.pkl')"
   ]
  },
  {
   "cell_type": "markdown",
   "id": "71f84182",
   "metadata": {},
   "source": [
    "## Outcomes of finding best paremeters and learning curve for Random Forest with 60% Training / 20% Test / 20% Validation:\n"
   ]
  },
  {
   "cell_type": "markdown",
   "id": "05f26c95",
   "metadata": {},
   "source": [
    "## According to learning curve, and best parameters output:\n",
    "\n",
    "- **The training score** is **almost 1** after the **traning set size** exceeds **20**\n",
    "- **The training score** can be considered as **steady**\n",
    "- In general, **Cross-validation score increases**, when the **training set** size **increases**\n",
    "- **The training score is considerably high like Logistic Regression**\n",
    "- **BEST PARAMS: {'max_depth': 8, 'n_estimators': 5}**\n"
   ]
  },
  {
   "cell_type": "code",
   "execution_count": 1062,
   "id": "e44609a0",
   "metadata": {},
   "outputs": [],
   "source": [
    "#-----------------------------------------------------------------------------------------------------------------\n",
    "#-----------------------------------------------------------------------------------------------------------------"
   ]
  },
  {
   "cell_type": "markdown",
   "id": "d99592e2",
   "metadata": {},
   "source": [
    "## 3- Random Forest with 80% Training / 10% Test / 10% Validation:"
   ]
  },
  {
   "cell_type": "code",
   "execution_count": 1063,
   "id": "bc28f668",
   "metadata": {},
   "outputs": [],
   "source": [
    "tr_features_80 = pd.read_csv('train80_features.csv')\n",
    "tr_labels_80 = pd.read_csv('train80_labels.csv')"
   ]
  },
  {
   "cell_type": "code",
   "execution_count": 1064,
   "id": "8d23d981",
   "metadata": {},
   "outputs": [],
   "source": [
    "def print_results(results):\n",
    "    print('BEST PARAMS: {}\\n'.format(results.best_params_))\n",
    "\n",
    "    means = results.cv_results_['mean_test_score']\n",
    "    stds = results.cv_results_['std_test_score']\n",
    "    for mean, std, params in zip(means, stds, results.cv_results_['params']):\n",
    "        print('{} (+/-{}) for {}'.format(round(mean, 3), round(std * 2, 3), params))"
   ]
  },
  {
   "cell_type": "code",
   "execution_count": 1065,
   "id": "b312dcfc",
   "metadata": {},
   "outputs": [
    {
     "name": "stdout",
     "output_type": "stream",
     "text": [
      "80-10-10\n",
      "BEST PARAMS: {'max_depth': 32, 'n_estimators': 5}\n",
      "\n",
      "0.945 (+/-0.046) for {'max_depth': 2, 'n_estimators': 5}\n",
      "0.964 (+/-0.033) for {'max_depth': 2, 'n_estimators': 50}\n",
      "0.971 (+/-0.018) for {'max_depth': 2, 'n_estimators': 250}\n",
      "0.953 (+/-0.037) for {'max_depth': 4, 'n_estimators': 5}\n",
      "0.975 (+/-0.029) for {'max_depth': 4, 'n_estimators': 50}\n",
      "0.975 (+/-0.018) for {'max_depth': 4, 'n_estimators': 250}\n",
      "0.96 (+/-0.036) for {'max_depth': 8, 'n_estimators': 5}\n",
      "0.971 (+/-0.018) for {'max_depth': 8, 'n_estimators': 50}\n",
      "0.975 (+/-0.018) for {'max_depth': 8, 'n_estimators': 250}\n",
      "0.975 (+/-0.044) for {'max_depth': 16, 'n_estimators': 5}\n",
      "0.978 (+/-0.027) for {'max_depth': 16, 'n_estimators': 50}\n",
      "0.978 (+/-0.027) for {'max_depth': 16, 'n_estimators': 250}\n",
      "0.982 (+/-0.023) for {'max_depth': 32, 'n_estimators': 5}\n",
      "0.982 (+/-0.033) for {'max_depth': 32, 'n_estimators': 50}\n",
      "0.978 (+/-0.027) for {'max_depth': 32, 'n_estimators': 250}\n",
      "0.956 (+/-0.029) for {'max_depth': None, 'n_estimators': 5}\n",
      "0.978 (+/-0.027) for {'max_depth': None, 'n_estimators': 50}\n",
      "0.978 (+/-0.027) for {'max_depth': None, 'n_estimators': 250}\n"
     ]
    },
    {
     "data": {
      "image/png": "[encoded data removed]",
      "text/plain": [
       "<Figure size 720x720 with 1 Axes>"
      ]
     },
     "metadata": {
      "needs_background": "light"
     },
     "output_type": "display_data"
    },
    {
     "data": {
      "text/plain": [
       "['penguins_RF80_model.pkl']"
      ]
     },
     "execution_count": 1065,
     "metadata": {},
     "output_type": "execute_result"
    }
   ],
   "source": [
    "# I did find optimal parameters and plot learning curve at the same time\n",
    "# reference used: parameters were written in provided notebooks by Professor\n",
    "\n",
    "rf = RandomForestClassifier()\n",
    "parameters = {\n",
    "    'n_estimators': [5, 50, 250],\n",
    "    'max_depth': [2, 4, 8, 16, 32, None]\n",
    "}\n",
    "\n",
    "cv = GridSearchCV(rf, parameters, cv=5)\n",
    "cv.fit(tr_features_80, tr_labels_80.values.ravel())\n",
    "\n",
    "title = '80-10-10'\n",
    "print(title)\n",
    "print_results(cv)\n",
    "plot_learning_curve_graph(tr_features, tr_labels, cv.best_estimator_)\n",
    "joblib.dump(cv.best_estimator_, 'penguins_RF80_model.pkl')"
   ]
  },
  {
   "cell_type": "markdown",
   "id": "c516d308",
   "metadata": {},
   "source": [
    "## Outcomes of finding best paremeters and learning curve for Random Forest with 80% Training / 10% Test /10% Validation:\n"
   ]
  },
  {
   "cell_type": "markdown",
   "id": "d4428284",
   "metadata": {},
   "source": [
    "## According to learning curve, and best parameters output:\n",
    "\n",
    "- **The training score** is always **1**\n",
    "- **The training score** remains **the same**\n",
    "- In general, **Cross-validation score increases**, when the **training set** size **increases**\n",
    "- **The training score is considerably high like Logistic Regression**\n",
    "- **BEST PARAMS: {'max_depth': 16, 'n_estimators': 250}**"
   ]
  },
  {
   "cell_type": "code",
   "execution_count": 1066,
   "id": "31107872",
   "metadata": {},
   "outputs": [],
   "source": [
    "#-----------------------------------------------------------------------------------------------------------------\n",
    "#-----------------------------------------------------------------------------------------------------------------"
   ]
  },
  {
   "cell_type": "markdown",
   "id": "2d74b75d",
   "metadata": {},
   "source": [
    "# Evaluate models on the Validation and Test set"
   ]
  },
  {
   "cell_type": "code",
   "execution_count": 1067,
   "id": "40041f3c",
   "metadata": {},
   "outputs": [],
   "source": [
    "val20_features = pd.read_csv('val20_features.csv')\n",
    "val20_labels = pd.read_csv('val20_labels.csv')\n",
    "te20_features = pd.read_csv('test20_features.csv')\n",
    "te20_labels = pd.read_csv('test20_labels.csv')\n",
    "# -----------------------------------------------------\n",
    "val10_features = pd.read_csv('val10_features.csv')\n",
    "val10_labels = pd.read_csv('val10_labels.csv')\n",
    "te10_features = pd.read_csv('test10_features.csv')\n",
    "te10_labels = pd.read_csv('test10_labels.csv')"
   ]
  },
  {
   "cell_type": "code",
   "execution_count": 1068,
   "id": "513c2da4",
   "metadata": {},
   "outputs": [],
   "source": [
    "# reference used: this function was used in lecture and written in provided notebooks by Professor\n",
    "# Models based on 60-20-20 split\n",
    "models60 = {}\n",
    "\n",
    "for mdl in ['LR60','MP60', 'RF60']:\n",
    "    models60[mdl] = joblib.load('penguins_{}_model.pkl'.format(mdl))\n",
    "# ----------------------------------------------------------------------------------- \n",
    "# Models based on 80-10-10 split\n",
    "models80 = {}\n",
    "\n",
    "for mdl in ['LR80','MP80', 'RF80']:\n",
    "    models80[mdl] = joblib.load('penguins_{}_model.pkl'.format(mdl))"
   ]
  },
  {
   "cell_type": "code",
   "execution_count": 1069,
   "id": "eee339fb",
   "metadata": {},
   "outputs": [
    {
     "data": {
      "text/plain": [
       "{'LR60': LogisticRegression(C=1),\n",
       " 'MP60': MLPClassifier(activation='logistic'),\n",
       " 'RF60': RandomForestClassifier(n_estimators=5)}"
      ]
     },
     "execution_count": 1069,
     "metadata": {},
     "output_type": "execute_result"
    }
   ],
   "source": [
    "models60"
   ]
  },
  {
   "cell_type": "code",
   "execution_count": 1070,
   "id": "8705983d",
   "metadata": {},
   "outputs": [
    {
     "data": {
      "text/plain": [
       "{'LR80': LogisticRegression(C=1000),\n",
       " 'MP80': MLPClassifier(activation='logistic', hidden_layer_sizes=(50,),\n",
       "               learning_rate='adaptive'),\n",
       " 'RF80': RandomForestClassifier(max_depth=32, n_estimators=5)}"
      ]
     },
     "execution_count": 1070,
     "metadata": {},
     "output_type": "execute_result"
    }
   ],
   "source": [
    "models80"
   ]
  },
  {
   "cell_type": "markdown",
   "id": "ea6f38d6",
   "metadata": {},
   "source": [
    "### Evaluate models on the validation set"
   ]
  },
  {
   "cell_type": "code",
   "execution_count": 1071,
   "id": "a680c579",
   "metadata": {},
   "outputs": [],
   "source": [
    "# reference used: this function was used in lecture and written in provided notebooks by Professor\n",
    "\n",
    "def evaluate_model(name, model, features, labels):\n",
    "    start = time()\n",
    "    pred = model.predict(features)\n",
    "    end = time()\n",
    "    accuracy = round(accuracy_score(labels, pred), 3)\n",
    "    precision = round(precision_score(labels, pred, average=\"micro\"), 3)\n",
    "    recall = round(recall_score(labels, pred, average=\"micro\"), 3)\n",
    "    print('{} -- Accuracy: {} / Precision: {} / Recall: {} / Latency: {}ms'.format(name,\n",
    "                                                                                   accuracy,\n",
    "                                                                                   precision,\n",
    "                                                                                   recall,\n",
    "                                                                                   round((end - start)*1000, 1)))"
   ]
  },
  {
   "cell_type": "code",
   "execution_count": 1072,
   "id": "c3106011",
   "metadata": {},
   "outputs": [
    {
     "name": "stdout",
     "output_type": "stream",
     "text": [
      "LR60 -- Accuracy: 1.0 / Precision: 1.0 / Recall: 1.0 / Latency: 0.6ms\n",
      "MP60 -- Accuracy: 0.464 / Precision: 0.464 / Recall: 0.464 / Latency: 0.6ms\n",
      "RF60 -- Accuracy: 0.971 / Precision: 0.971 / Recall: 0.971 / Latency: 0.9ms\n"
     ]
    }
   ],
   "source": [
    "# reference used: this function was used in lecture and written in provided notebooks by Professor\n",
    "# outputting performance of models that were splitted 60-20-20 based on validation set\n",
    "\n",
    "for name, mdl in models60.items():\n",
    "    evaluate_model(name, mdl, val20_features, val20_labels)"
   ]
  },
  {
   "cell_type": "code",
   "execution_count": 1073,
   "id": "9705f851",
   "metadata": {},
   "outputs": [
    {
     "name": "stdout",
     "output_type": "stream",
     "text": [
      "LR80 -- Accuracy: 0.971 / Precision: 0.971 / Recall: 0.971 / Latency: 0.5ms\n",
      "MP80 -- Accuracy: 0.714 / Precision: 0.714 / Recall: 0.714 / Latency: 0.7ms\n",
      "RF80 -- Accuracy: 0.943 / Precision: 0.943 / Recall: 0.943 / Latency: 1.1ms\n"
     ]
    }
   ],
   "source": [
    "# outputting performance of models that were splitted 80-10-10 based on validation set\n",
    "\n",
    "for name, mdl in models80.items():\n",
    "    evaluate_model(name, mdl, val10_features, val10_labels)"
   ]
  },
  {
   "cell_type": "markdown",
   "id": "51ccdd03",
   "metadata": {},
   "source": [
    "### Evaluate models on the test set"
   ]
  },
  {
   "cell_type": "code",
   "execution_count": 1074,
   "id": "e1f09af1",
   "metadata": {},
   "outputs": [
    {
     "name": "stdout",
     "output_type": "stream",
     "text": [
      "LR80 -- Accuracy: 1.0 / Precision: 1.0 / Recall: 1.0 / Latency: 0.5ms\n",
      "MP80 -- Accuracy: 0.588 / Precision: 0.588 / Recall: 0.588 / Latency: 0.6ms\n",
      "RF80 -- Accuracy: 1.0 / Precision: 1.0 / Recall: 1.0 / Latency: 1.0ms\n"
     ]
    }
   ],
   "source": [
    "# outputting performance of models that were splitted 80-10-10 based on test set\n",
    "\n",
    "for name, mdl in models80.items():\n",
    "    evaluate_model(name, mdl, te10_features, te10_labels)"
   ]
  },
  {
   "cell_type": "code",
   "execution_count": 1075,
   "id": "e20037b7",
   "metadata": {},
   "outputs": [
    {
     "name": "stdout",
     "output_type": "stream",
     "text": [
      "LR60 -- Accuracy: 0.971 / Precision: 0.971 / Recall: 0.971 / Latency: 0.5ms\n",
      "MP60 -- Accuracy: 0.464 / Precision: 0.464 / Recall: 0.464 / Latency: 0.9ms\n",
      "RF60 -- Accuracy: 0.957 / Precision: 0.957 / Recall: 0.957 / Latency: 1.0ms\n"
     ]
    }
   ],
   "source": [
    "# outputting performance of models that were splitted 60-20-20 based on test set\n",
    "\n",
    "for name, mdl in models60.items():\n",
    "    evaluate_model(name, mdl, te20_features, te20_labels)"
   ]
  },
  {
   "cell_type": "markdown",
   "id": "664b2f54",
   "metadata": {},
   "source": [
    "# Analyzing the results on Validation and Test set"
   ]
  },
  {
   "cell_type": "markdown",
   "id": "1c03acd5",
   "metadata": {},
   "source": [
    "- Both **Logistic Regression** and **Random Forest** performed **best.** Because the **performance of Logistic Regression and Random Forest** on a **small to medium size dataset** is **quite good** **compared to** that of **Multilayer Perception.** All analysis and evulation I have done is sort of **quick benchmark model** in which **Logistic and Random Forest** are **far better** than **Multilayer Perception.**\n",
    "\n",
    "- **One of the best performers were Logistic Regression** with **60-20-20 split on the validation** set as well as **80-10-10 split on test set.** In both case, **accuracy, precision** and **recall** were **1.0.** However, the performance of **Logistic Regression** **dropped to 0,971** while evaluation on **validation set** with **80-10-10 split** as well as **test set** with **60-20-20 split.**\n",
    "\n",
    "- **Multilayer Perception** did **perform worse** than Logistic Regression and Random Forest on **both evulations on validation and test sets.** The reason is that **Multilayer Perception requires a large dataset** which is **not** the case for this dataset. This dataset is quite small for ML.\n",
    "\n",
    "- **Multilayer Perception** performed **best** on **validation set** with **80-10-10 split** (0.743).\n",
    "\n",
    "- **Random Forest** performed **best** on **validation set** with **60-20-20 split** and **test set on 80-10-10 split** in which it had **1.0 accuracy, precision and recall** values. However, the **performance of Random forest** **decreased** on **validation set** with **80-10-10** split and **test set** with **60-20-20** split which were both 0.971\n",
    "- On **the test set evaluations**, **80-10-10 split** performed **better** compared to **60-20-20 split** on test set. "
   ]
  }
 ],
 "metadata": {
  "kernelspec": {
   "display_name": "Python 3 (ipykernel)",
   "language": "python",
   "name": "python3"
  },
  "language_info": {
   "codemirror_mode": {
    "name": "ipython",
    "version": 3
   },
   "file_extension": ".py",
   "mimetype": "text/x-python",
   "name": "python",
   "nbconvert_exporter": "python",
   "pygments_lexer": "ipython3",
   "version": "3.9.7"
  }
 },
 "nbformat": 4,
 "nbformat_minor": 5
}
